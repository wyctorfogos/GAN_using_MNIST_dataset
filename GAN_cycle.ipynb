{
  "nbformat": 4,
  "nbformat_minor": 0,
  "metadata": {
    "colab": {
      "provenance": [],
      "collapsed_sections": [],
      "authorship_tag": "ABX9TyPo1DacXE8XdHsWlPZxrTqT",
      "include_colab_link": true
    },
    "kernelspec": {
      "name": "python3",
      "display_name": "Python 3"
    },
    "language_info": {
      "name": "python"
    },
    "accelerator": "GPU"
  },
  "cells": [
    {
      "cell_type": "markdown",
      "metadata": {
        "id": "view-in-github",
        "colab_type": "text"
      },
      "source": [
        "<a href=\"https://colab.research.google.com/github/wyctorfogos/GAN_using_MNIST_dataset/blob/main/GAN_cycle.ipynb\" target=\"_parent\"><img src=\"https://colab.research.google.com/assets/colab-badge.svg\" alt=\"Open In Colab\"/></a>"
      ]
    },
    {
      "cell_type": "code",
      "execution_count": 1,
      "metadata": {
        "id": "i6BFw0aZfqDn"
      },
      "outputs": [],
      "source": [
        "import tensorflow as tf\n",
        "from tensorflow import keras\n",
        "from keras.datasets import mnist\n",
        "import numpy as np"
      ]
    },
    {
      "cell_type": "code",
      "source": [
        "(x_train, y_train), (x_test, y_test) = keras.datasets.mnist.load_data()"
      ],
      "metadata": {
        "id": "txSYt_Lrik8B",
        "colab": {
          "base_uri": "https://localhost:8080/"
        },
        "outputId": "66cb8899-7c0e-442d-c73e-2e83a13bfd9a"
      },
      "execution_count": 2,
      "outputs": [
        {
          "output_type": "stream",
          "name": "stdout",
          "text": [
            "Downloading data from https://storage.googleapis.com/tensorflow/tf-keras-datasets/mnist.npz\n",
            "11493376/11490434 [==============================] - 0s 0us/step\n",
            "11501568/11490434 [==============================] - 0s 0us/step\n"
          ]
        }
      ]
    },
    {
      "cell_type": "markdown",
      "source": [
        "Normalize dataset"
      ],
      "metadata": {
        "id": "vcHPigL3i9bo"
      }
    },
    {
      "cell_type": "code",
      "source": [
        "x_train, x_test=x_train/255., x_test/255.\n"
      ],
      "metadata": {
        "id": "Ki3z3kyZiyJI"
      },
      "execution_count": 3,
      "outputs": []
    },
    {
      "cell_type": "code",
      "source": [
        "x_train.shape"
      ],
      "metadata": {
        "colab": {
          "base_uri": "https://localhost:8080/"
        },
        "id": "f4zEVNMejfvX",
        "outputId": "73b634e5-7ec1-40a3-980b-cbb5a8d9d191"
      },
      "execution_count": 4,
      "outputs": [
        {
          "output_type": "execute_result",
          "data": {
            "text/plain": [
              "(60000, 28, 28)"
            ]
          },
          "metadata": {},
          "execution_count": 4
        }
      ]
    },
    {
      "cell_type": "code",
      "source": [
        "import matplotlib.pyplot as plt \n",
        "\n",
        "plt.imshow(x_train[0], cmap='gray')\n",
        "plt.show()"
      ],
      "metadata": {
        "colab": {
          "base_uri": "https://localhost:8080/",
          "height": 265
        },
        "id": "siQFdPJljMNf",
        "outputId": "ec26691f-4b36-419f-db3a-66ee5aba119f"
      },
      "execution_count": 5,
      "outputs": [
        {
          "output_type": "display_data",
          "data": {
            "text/plain": [
              "<Figure size 432x288 with 1 Axes>"
            ],
            "image/png": "[encoded data removed]"
          },
          "metadata": {
            "needs_background": "light"
          }
        }
      ]
    },
    {
      "cell_type": "markdown",
      "source": [
        "GAN system"
      ],
      "metadata": {
        "id": "LICbSUQOj7gD"
      }
    },
    {
      "cell_type": "code",
      "source": [
        "\n",
        "class Generator():\n",
        "  def __init__(self, input_dimensions=(28,28,1),noise_vector_shape=(int(28*28),)):\n",
        "    self.input_dimensions=input_dimensions ##Images dimensions\n",
        "    self.noise_vector_shape=noise_vector_shape\n",
        "    pass\n",
        "\n",
        "  def Generator_model(self):\n",
        "\n",
        "    model= keras.Sequential()\n",
        "    model.add(keras.layers.Dense(28*28, input_shape=self.noise_vector_shape))\n",
        "    model.add(keras.layers.ReLU())\n",
        "    model.add(keras.layers.Dense(28*28*2))\n",
        "    model.add(keras.layers.ReLU())\n",
        "    model.add(keras.layers.Dense(28*28*4))\n",
        "    model.add(keras.layers.ReLU())\n",
        "    model.add(keras.layers.Dense(28*28*1))\n",
        "    model.add(keras.layers.Reshape(self.input_dimensions))\n",
        "\n",
        "    input=keras.Input(shape=self.noise_vector_shape)\n",
        "    \n",
        "    generator_model=keras.Model(input,model(input))\n",
        "\n",
        "    print(\"Generator\")\n",
        "    print(generator_model.summary())\n",
        "    return  generator_model"
      ],
      "metadata": {
        "id": "Mnyt6VXDjnXE"
      },
      "execution_count": 149,
      "outputs": []
    },
    {
      "cell_type": "code",
      "source": [
        "GENERATOR=Generator(input_dimensions=(28,28,1),noise_vector_shape=(100,)).Generator_model()"
      ],
      "metadata": {
        "colab": {
          "base_uri": "https://localhost:8080/"
        },
        "id": "E5wA3uefmlcQ",
        "outputId": "19654a06-da00-4690-a223-95bbaef96450"
      },
      "execution_count": 219,
      "outputs": [
        {
          "output_type": "stream",
          "name": "stdout",
          "text": [
            "Generator\n",
            "Model: \"model_108\"\n",
            "_________________________________________________________________\n",
            " Layer (type)                Output Shape              Param #   \n",
            "=================================================================\n",
            " input_119 (InputLayer)      [(None, 100)]             0         \n",
            "                                                                 \n",
            " sequential_64 (Sequential)  (None, 28, 28, 1)         8689856   \n",
            "                                                                 \n",
            "=================================================================\n",
            "Total params: 8,689,856\n",
            "Trainable params: 8,689,856\n",
            "Non-trainable params: 0\n",
            "_________________________________________________________________\n",
            "None\n"
          ]
        }
      ]
    },
    {
      "cell_type": "code",
      "source": [
        "import numpy as np\n",
        "\n",
        "#noise_array=np.random.random()\n",
        "#img_withnoise=imgs.ravel()+noise_array\n",
        "#print(img_withnoise)"
      ],
      "metadata": {
        "id": "0HDOI3SsVj5j"
      },
      "execution_count": 172,
      "outputs": []
    },
    {
      "cell_type": "code",
      "source": [
        "#print(np.array(abs(GENERATOR.predict(np.expand_dims(noise_array,axis=0)))).shape)\n",
        "np.expand_dims(x_train, axis=3).shape"
      ],
      "metadata": {
        "colab": {
          "base_uri": "https://localhost:8080/"
        },
        "id": "MMLszAkWWKte",
        "outputId": "31805922-d122-41ce-8cc1-41c65aaa19e8"
      },
      "execution_count": 152,
      "outputs": [
        {
          "output_type": "execute_result",
          "data": {
            "text/plain": [
              "(60000, 28, 28, 1)"
            ]
          },
          "metadata": {},
          "execution_count": 152
        }
      ]
    },
    {
      "cell_type": "code",
      "source": [
        "from keras.applications.vgg19 import VGG19\n",
        "from keras.layers import Input, Lambda, Dense, Flatten\n",
        "\n",
        "class Discriminator():\n",
        "  def __init__(self,input_image_shape=(28,28,1)):\n",
        "    self.input_image_shape=input_image_shape\n",
        "\n",
        "    pass\n",
        "  def Discriminator_model(self):\n",
        "    \n",
        "    #vgg19_part=VGG19(include_top=False, weights='imagenet', input_shape=self.input_image_shape, classes=1)\n",
        "\n",
        "    #x = Flatten()(vgg19_part.output) #Output obtained on vgg16 is now flattened. \n",
        "    #prediction = Dense(1, activation='sigmoid')(x) # We have 5 classes, and so, the prediction is being done on len(folders) - 5 classes#Creating model object \n",
        "    model=keras.Sequential()\n",
        "\n",
        "    model.add(keras.layers.Dense(28*28, input_shape=self.input_image_shape))\n",
        "    model.add(keras.layers.ReLU())\n",
        "    model.add(keras.layers.Dense(28*28*2))\n",
        "    model.add(keras.layers.ReLU())\n",
        "    model.add(keras.layers.Dense(28*28*4))\n",
        "    model.add(keras.layers.Flatten())\n",
        "    model.add(keras.layers.Dense(1, activation='sigmoid'))\n",
        "\n",
        "\n",
        "    input=keras.Input(shape=self.input_image_shape)\n",
        "    prediction=model(input)\n",
        "    model = keras.Model(inputs=input, outputs=prediction)\n",
        "    \n",
        "    print(\"Discriminator\")\n",
        "    print(model.summary())\n",
        "\n",
        "    return model"
      ],
      "metadata": {
        "id": "gOv_inrLsgMO"
      },
      "execution_count": 218,
      "outputs": []
    },
    {
      "cell_type": "code",
      "source": [
        "DISCRIMINATOR=Discriminator(input_image_shape=(28,28,1)).Discriminator_model()"
      ],
      "metadata": {
        "colab": {
          "base_uri": "https://localhost:8080/"
        },
        "id": "WZIwU1fbcGnK",
        "outputId": "b2cbabb9-baed-4595-ff36-495db9275853"
      },
      "execution_count": 11,
      "outputs": [
        {
          "output_type": "stream",
          "name": "stdout",
          "text": [
            "Discriminator\n",
            "Model: \"model_1\"\n",
            "_________________________________________________________________\n",
            " Layer (type)                Output Shape              Param #   \n",
            "=================================================================\n",
            " input_2 (InputLayer)        [(None, 28, 28, 1)]       0         \n",
            "                                                                 \n",
            " sequential_1 (Sequential)   (None, 1)                 8611457   \n",
            "                                                                 \n",
            "=================================================================\n",
            "Total params: 8,611,457\n",
            "Trainable params: 8,611,457\n",
            "Non-trainable params: 0\n",
            "_________________________________________________________________\n",
            "None\n"
          ]
        }
      ]
    },
    {
      "cell_type": "code",
      "source": [
        "def GAN_MODEL(generator=GENERATOR, discriminator=DISCRIMINATOR):\n",
        "  #generated_image = generator(input_GAN_system)\n",
        "\n",
        "  #validat_image = discriminator(generated_image)\n",
        "  #GAN_combination = keras.Model(input_GAN_system, validat_image)\n",
        "  #GAN_combination.compile(loss='binary_crossentropy', optimizer=keras.optimizers.Adam(learning_rate=1e-4))\n",
        "  #print(\"GAN system model\")\n",
        "  \n",
        "  discriminator.trainable=False\n",
        "\n",
        "  GAN_combination=keras.Sequential()\n",
        "  GAN_combination.add(generator)\n",
        "  GAN_combination.add(discriminator)\n",
        "\n",
        "  print(GAN_combination.summary())\n",
        "\n",
        "  GAN_MODEL=GAN_combination\n",
        "\n",
        "  return GAN_combination"
      ],
      "metadata": {
        "id": "d9Zr6A69u9N7"
      },
      "execution_count": 211,
      "outputs": []
    },
    {
      "cell_type": "code",
      "source": [
        "#del GAN_combination\n",
        "\n",
        "GAN_combination=GAN_MODEL(generator=GENERATOR, discriminator=DISCRIMINATOR)\n"
      ],
      "metadata": {
        "colab": {
          "base_uri": "https://localhost:8080/"
        },
        "id": "XhIz2zuIyxrL",
        "outputId": "10fea949-378e-4416-c62b-1ea2c625ce41"
      },
      "execution_count": 212,
      "outputs": [
        {
          "output_type": "stream",
          "name": "stdout",
          "text": [
            "Model: \"sequential_55\"\n",
            "_________________________________________________________________\n",
            " Layer (type)                Output Shape              Param #   \n",
            "=================================================================\n",
            " model_96 (Functional)       (None, 28, 28, 1)         28280448  \n",
            "                                                                 \n",
            " model_1 (Functional)        (None, 1)                 8611457   \n",
            "                                                                 \n",
            "=================================================================\n",
            "Total params: 36,891,905\n",
            "Trainable params: 28,280,448\n",
            "Non-trainable params: 8,611,457\n",
            "_________________________________________________________________\n",
            "None\n"
          ]
        }
      ]
    },
    {
      "cell_type": "code",
      "source": [
        "batch_size=64\n",
        "half_batch = int(batch_size / 2)"
      ],
      "metadata": {
        "id": "KPMJ7_H3j8ZN"
      },
      "execution_count": 177,
      "outputs": []
    },
    {
      "cell_type": "code",
      "source": [
        "noise = np.random.randint(0, 1, (batch_size, 28*28))\n",
        "print(noise.shape)"
      ],
      "metadata": {
        "id": "UC588XV2gQyH",
        "colab": {
          "base_uri": "https://localhost:8080/"
        },
        "outputId": "f04fa528-897c-48d2-8c5f-eaac125aec20"
      },
      "execution_count": 178,
      "outputs": [
        {
          "output_type": "stream",
          "name": "stdout",
          "text": [
            "(64, 784)\n"
          ]
        }
      ]
    },
    {
      "cell_type": "code",
      "source": [
        "import cv2\n",
        "\n",
        "generated_image=abs(GENERATOR.predict(noise))*255.0\n",
        "generated_image= cv2.cvtColor(generated_image[1], cv2.COLOR_BGR2RGB)\n",
        "plt.imshow(generated_image)\n",
        "plt.show()\n"
      ],
      "metadata": {
        "id": "1yUsdddYlG_o",
        "colab": {
          "base_uri": "https://localhost:8080/",
          "height": 265
        },
        "outputId": "f5500ddf-cf3b-46b2-b3f8-acdfe45feec0"
      },
      "execution_count": 140,
      "outputs": [
        {
          "output_type": "display_data",
          "data": {
            "text/plain": [
              "<Figure size 432x288 with 1 Axes>"
            ],
            "image/png": "[encoded data removed]"
          },
          "metadata": {
            "needs_background": "light"
          }
        }
      ]
    },
    {
      "cell_type": "code",
      "source": [
        "def train_GAN(x_train,DISCRIMINATOR, GENERATOR, batch_size):\n",
        "  epochs=1000\n",
        "\n",
        "  x_train=np.expand_dims(x_train,axis=3)\n",
        "  \n",
        "  for epoch in range(epochs):\n",
        "    print(\"Epoch {}\".format(epoch))\n",
        "    idx = np.random.randint(0, x_train.shape[0], half_batch)\n",
        "    imgs = x_train[idx]\n",
        "\n",
        "    ##To be used into Discriminator train process\n",
        "    noise = np.random.normal(0, 1, (half_batch, 100))\n",
        "\n",
        "    gen_imgs = GENERATOR.predict(noise)\n",
        "    \n",
        "    ##It is necessary to get the DISCRIMINATOR's loss value \n",
        "    with tf.device('/device:GPU:0'):\n",
        "      d_loss_real = DISCRIMINATOR.train_on_batch(imgs, np.ones((half_batch, 1)))\n",
        "      d_loss_fake = DISCRIMINATOR.train_on_batch(gen_imgs, np.zeros((half_batch, 1)))\n",
        "\n",
        "    d_loss=0.5*np.add(d_loss_real,d_loss_fake)\n",
        "    print(d_loss)\n",
        "\n",
        "    DISCRIMINATOR.trainable=True\n",
        "\n",
        "    ##Test the generator model\n",
        "    noise = np.random.randint(0, 1, (batch_size, 100))\n",
        "\n",
        "    noise = np.random.normal(0, 1, (batch_size, 100)) \n",
        "\n",
        "    # The generator wants the discriminator to label the generated samples\n",
        "    # as valid (ones)\n",
        "    #This is where the genrator is trying to trick discriminator into believing\n",
        "    #the generated image is true (hence value of 1 for y)\n",
        "    valid_y = np.array([1] * batch_size) #Creates an array of all ones of size=batch size\n",
        "\n",
        "    # Generator is part of combined where it got directly linked with the discriminator\n",
        "    # Train the generator with noise as x and 1 as y. \n",
        "    # Again, 1 as the output as it is adversarial and if generator did a great\n",
        "    #job of folling the discriminator then the output would be 1 (true)\n",
        "    with tf.device('/device:GPU:0'):\n",
        "      g_loss = GAN_combination.train_on_batch(noise, valid_y)\n",
        "    \n",
        "    #g_loss = GENERATOR.train_on_batch(noise)\n",
        "    \n",
        "    if epoch%10==0:\n",
        "      try:\n",
        "        print(\"Saving generator model\")\n",
        "        GENERATOR.save(\"./generators/gen_epoch_{}.h5\".format(epoch))\n",
        "        print(\"Saved!\")\n",
        "        plot_images(GENERATOR)\n",
        "      except:\n",
        "        print(\"Try to save the last trained model again!\")"
      ],
      "metadata": {
        "id": "_1UXKbtneaA4"
      },
      "execution_count": 223,
      "outputs": []
    },
    {
      "cell_type": "code",
      "source": [
        "##Compile Discriminator and generator\n",
        "\n",
        "discriminator = Discriminator(input_image_shape=(28,28,1)).Discriminator_model()\n",
        "discriminator.compile(loss='binary_crossentropy',\n",
        "    optimizer=keras.optimizers.Adam(learning_rate=1e-4),\n",
        "    metrics=['accuracy'])\n",
        "\n",
        "#build and compile our Discriminator, pick the loss function\n",
        "\n",
        "#SInce we are only generating (faking) images, let us not track any metrics.\n",
        "generator=Generator(input_dimensions=(28,28,1),noise_vector_shape=(100,)).Generator_model()\n",
        "generator.compile(loss='binary_crossentropy', optimizer=keras.optimizers.Adam(learning_rate=1e-4))\n",
        "\n",
        "discriminator.trainable=False\n",
        "##Create a model equivalent to GAN structure - combine generator and discriminator \n",
        "#Here we combined the models and also set our loss function and optimizer. \n",
        "#Again, we are only training the generator here. \n",
        "#The ultimate goal here is for the Generator to fool the Discriminator.  \n",
        "# The combined model  (stacked generator and discriminator) takes\n",
        "# noise as input => generates images => determines validity\n",
        "input_GAN_system=keras.Input(shape=(100,))\n",
        "generated_image=generator(input_GAN_system)\n",
        "validat_image= discriminator(generated_image)\n",
        "GAN_combination = keras.Model(input_GAN_system, validat_image)\n",
        "GAN_combination.compile(loss='binary_crossentropy', optimizer=keras.optimizers.Adam(learning_rate=1e-4))\n",
        "GAN_combination.summary()\n",
        "\n",
        "\n",
        "train_GAN(x_train,discriminator,generator,batch_size)\n",
        "\n",
        "\n",
        "\n"
      ],
      "metadata": {
        "id": "70CnFYUIodIF",
        "colab": {
          "base_uri": "https://localhost:8080/",
          "height": 1000
        },
        "outputId": "bce9bf18-d1fc-4a59-eec0-82fe5cb1d947"
      },
      "execution_count": 224,
      "outputs": [
        {
          "output_type": "stream",
          "name": "stdout",
          "text": [
            "Discriminator\n",
            "Model: \"model_115\"\n",
            "_________________________________________________________________\n",
            " Layer (type)                Output Shape              Param #   \n",
            "=================================================================\n",
            " input_126 (InputLayer)      [(None, 28, 28, 1)]       0         \n",
            "                                                                 \n",
            " sequential_69 (Sequential)  (None, 1)                 8611457   \n",
            "                                                                 \n",
            "=================================================================\n",
            "Total params: 8,611,457\n",
            "Trainable params: 8,611,457\n",
            "Non-trainable params: 0\n",
            "_________________________________________________________________\n",
            "None\n",
            "Generator\n",
            "Model: \"model_116\"\n",
            "_________________________________________________________________\n",
            " Layer (type)                Output Shape              Param #   \n",
            "=================================================================\n",
            " input_127 (InputLayer)      [(None, 100)]             0         \n",
            "                                                                 \n",
            " sequential_70 (Sequential)  (None, 28, 28, 1)         8689856   \n",
            "                                                                 \n",
            "=================================================================\n",
            "Total params: 8,689,856\n",
            "Trainable params: 8,689,856\n",
            "Non-trainable params: 0\n",
            "_________________________________________________________________\n",
            "None\n",
            "Model: \"model_117\"\n",
            "_________________________________________________________________\n",
            " Layer (type)                Output Shape              Param #   \n",
            "=================================================================\n",
            " input_128 (InputLayer)      [(None, 100)]             0         \n",
            "                                                                 \n",
            " model_116 (Functional)      (None, 28, 28, 1)         8689856   \n",
            "                                                                 \n",
            " model_115 (Functional)      (None, 1)                 8611457   \n",
            "                                                                 \n",
            "=================================================================\n",
            "Total params: 17,301,313\n",
            "Trainable params: 8,689,856\n",
            "Non-trainable params: 8,611,457\n",
            "_________________________________________________________________\n",
            "Epoch 0\n",
            "[0.73441255 0.203125  ]\n",
            "Saving generator model\n",
            "Saved!\n",
            "(28, 28)\n"
          ]
        },
        {
          "output_type": "display_data",
          "data": {
            "text/plain": [
              "<Figure size 432x288 with 2 Axes>"
            ],
            "image/png": "[encoded data removed]"
          },
          "metadata": {
            "needs_background": "light"
          }
        },
        {
          "output_type": "stream",
          "name": "stdout",
          "text": [
            "Epoch 1\n",
            "[0.567986 0.828125]\n",
            "Epoch 2\n",
            "[0.48782817 1.        ]\n",
            "Epoch 3\n",
            "[0.45759971 0.875     ]\n",
            "Epoch 4\n",
            "[0.43453722 0.828125  ]\n",
            "Epoch 5\n",
            "[0.40095677 0.96875   ]\n",
            "Epoch 6\n",
            "[0.32985325 1.        ]\n",
            "Epoch 7\n",
            "[0.22440506 1.        ]\n",
            "Epoch 8\n",
            "[0.22837938 0.984375  ]\n",
            "Epoch 9\n",
            "[0.21736626 0.9375    ]\n",
            "Epoch 10\n",
            "[0.25643289 0.953125  ]\n",
            "Saving generator model\n",
            "Saved!\n",
            "(28, 28)\n"
          ]
        },
        {
          "output_type": "display_data",
          "data": {
            "text/plain": [
              "<Figure size 432x288 with 2 Axes>"
            ],
            "image/png": "[encoded data removed]"
          },
          "metadata": {
            "needs_background": "light"
          }
        },
        {
          "output_type": "stream",
          "name": "stdout",
          "text": [
            "Epoch 11\n",
            "[0.25389406 0.953125  ]\n",
            "Epoch 12\n",
            "[0.2043246 1.       ]\n",
            "Epoch 13\n",
            "[0.15070185 1.        ]\n",
            "Epoch 14\n",
            "[0.12184552 0.984375  ]\n",
            "Epoch 15\n",
            "[0.20244692 0.953125  ]\n",
            "Epoch 16\n",
            "[0.24930264 0.921875  ]\n",
            "Epoch 17\n",
            "[0.23440693 0.96875   ]\n",
            "Epoch 18\n",
            "[0.28657749 0.9375    ]\n",
            "Epoch 19\n",
            "[0.1586414 0.984375 ]\n",
            "Epoch 20\n",
            "[0.14210991 0.96875   ]\n",
            "Saving generator model\n",
            "Saved!\n",
            "(28, 28)\n"
          ]
        },
        {
          "output_type": "display_data",
          "data": {
            "text/plain": [
              "<Figure size 432x288 with 2 Axes>"
            ],
            "image/png": "[encoded data removed]"
          },
          "metadata": {
            "needs_background": "light"
          }
        },
        {
          "output_type": "stream",
          "name": "stdout",
          "text": [
            "Epoch 21\n",
            "[0.1296452 0.96875  ]\n",
            "Epoch 22\n",
            "[0.12029092 0.984375  ]\n",
            "Epoch 23\n",
            "[0.09791982 0.96875   ]\n",
            "Epoch 24\n",
            "[0.07207853 0.984375  ]\n",
            "Epoch 25\n",
            "[0.05107668 1.        ]\n",
            "Epoch 26\n",
            "[0.0313825 1.       ]\n",
            "Epoch 27\n",
            "[0.04532853 0.984375  ]\n",
            "Epoch 28\n",
            "[0.03257072 1.        ]\n",
            "Epoch 29\n",
            "[0.016865 1.      ]\n",
            "Epoch 30\n",
            "[0.02170049 1.        ]\n",
            "Saving generator model\n",
            "Saved!\n",
            "(28, 28)\n"
          ]
        },
        {
          "output_type": "display_data",
          "data": {
            "text/plain": [
              "<Figure size 432x288 with 2 Axes>"
            ],
            "image/png": "[encoded data removed]"
          },
          "metadata": {
            "needs_background": "light"
          }
        },
        {
          "output_type": "stream",
          "name": "stdout",
          "text": [
            "Epoch 31\n",
            "[0.00943048 1.        ]\n",
            "Epoch 32\n",
            "[0.01264393 1.        ]\n",
            "Epoch 33\n",
            "[0.00797584 1.        ]\n",
            "Epoch 34\n",
            "[0.00622298 1.        ]\n",
            "Epoch 35\n",
            "[0.01247316 1.        ]\n",
            "Epoch 36\n",
            "[0.0093878 1.       ]\n",
            "Epoch 37\n",
            "[0.00767035 1.        ]\n",
            "Epoch 38\n",
            "[0.0097887 1.       ]\n",
            "Epoch 39\n",
            "[0.00562296 1.        ]\n",
            "Epoch 40\n",
            "[0.00453717 1.        ]\n",
            "Saving generator model\n",
            "Saved!\n",
            "(28, 28)\n"
          ]
        },
        {
          "output_type": "display_data",
          "data": {
            "text/plain": [
              "<Figure size 432x288 with 2 Axes>"
            ],
            "image/png": "[encoded data removed]"
          },
          "metadata": {
            "needs_background": "light"
          }
        },
        {
          "output_type": "stream",
          "name": "stdout",
          "text": [
            "Epoch 41\n",
            "[0.01386303 1.        ]\n",
            "Epoch 42\n",
            "[0.00527558 1.        ]\n",
            "Epoch 43\n",
            "[0.00614759 1.        ]\n",
            "Epoch 44\n",
            "[0.00610008 1.        ]\n",
            "Epoch 45\n",
            "[0.00419474 1.        ]\n",
            "Epoch 46\n",
            "[0.00442896 1.        ]\n",
            "Epoch 47\n",
            "[0.00262667 1.        ]\n",
            "Epoch 48\n",
            "[0.00331649 1.        ]\n",
            "Epoch 49\n",
            "[0.00127014 1.        ]\n",
            "Epoch 50\n",
            "[0.00113348 1.        ]\n",
            "Saving generator model\n",
            "Saved!\n",
            "(28, 28)\n"
          ]
        },
        {
          "output_type": "display_data",
          "data": {
            "text/plain": [
              "<Figure size 432x288 with 2 Axes>"
            ],
            "image/png": "[encoded data removed]"
          },
          "metadata": {
            "needs_background": "light"
          }
        },
        {
          "output_type": "stream",
          "name": "stdout",
          "text": [
            "Epoch 51\n",
            "[0.00112022 1.        ]\n",
            "Epoch 52\n",
            "[0.00121871 1.        ]\n",
            "Epoch 53\n",
            "[0.00224356 1.        ]\n",
            "Epoch 54\n",
            "[0.00164031 1.        ]\n",
            "Epoch 55\n",
            "[0.00227941 1.        ]\n",
            "Epoch 56\n",
            "[9.10352159e-04 1.00000000e+00]\n",
            "Epoch 57\n",
            "[0.0013765 1.       ]\n",
            "Epoch 58\n",
            "[0.00103221 1.        ]\n",
            "Epoch 59\n",
            "[0.00122855 1.        ]\n",
            "Epoch 60\n",
            "[0.0017698 1.       ]\n",
            "Saving generator model\n",
            "Saved!\n",
            "(28, 28)\n"
          ]
        },
        {
          "output_type": "display_data",
          "data": {
            "text/plain": [
              "<Figure size 432x288 with 2 Axes>"
            ],
            "image/png": "[encoded data removed]"
          },
          "metadata": {
            "needs_background": "light"
          }
        },
        {
          "output_type": "stream",
          "name": "stdout",
          "text": [
            "Epoch 61\n",
            "[8.86930444e-04 1.00000000e+00]\n",
            "Epoch 62\n",
            "[0.00190618 1.        ]\n",
            "Epoch 63\n",
            "[0.00128006 1.        ]\n",
            "Epoch 64\n",
            "[7.0542394e-04 1.0000000e+00]\n",
            "Epoch 65\n",
            "[0.00216988 1.        ]\n",
            "Epoch 66\n",
            "[0.0017136 1.       ]\n",
            "Epoch 67\n",
            "[0.00108432 1.        ]\n",
            "Epoch 68\n",
            "[0.0019815 1.       ]\n",
            "Epoch 69\n",
            "[6.35147881e-04 1.00000000e+00]\n",
            "Epoch 70\n",
            "[0.00144172 1.        ]\n",
            "Saving generator model\n",
            "Saved!\n",
            "(28, 28)\n"
          ]
        },
        {
          "output_type": "display_data",
          "data": {
            "text/plain": [
              "<Figure size 432x288 with 2 Axes>"
            ],
            "image/png": "[encoded data removed]"
          },
          "metadata": {
            "needs_background": "light"
          }
        },
        {
          "output_type": "stream",
          "name": "stdout",
          "text": [
            "Epoch 71\n",
            "[0.00257224 1.        ]\n",
            "Epoch 72\n",
            "[7.61709118e-04 1.00000000e+00]\n",
            "Epoch 73\n",
            "[0.00161287 1.        ]\n",
            "Epoch 74\n",
            "[7.77017543e-04 1.00000000e+00]\n",
            "Epoch 75\n",
            "[6.03858527e-04 1.00000000e+00]\n",
            "Epoch 76\n",
            "[4.17297357e-04 1.00000000e+00]\n",
            "Epoch 77\n",
            "[4.81893701e-04 1.00000000e+00]\n",
            "Epoch 78\n",
            "[8.05704884e-04 1.00000000e+00]\n",
            "Epoch 79\n",
            "[4.92236359e-04 1.00000000e+00]\n",
            "Epoch 80\n",
            "[7.74467742e-04 1.00000000e+00]\n",
            "Saving generator model\n",
            "Saved!\n",
            "(28, 28)\n"
          ]
        },
        {
          "output_type": "display_data",
          "data": {
            "text/plain": [
              "<Figure size 432x288 with 2 Axes>"
            ],
            "image/png": "[encoded data removed]"
          },
          "metadata": {
            "needs_background": "light"
          }
        },
        {
          "output_type": "stream",
          "name": "stdout",
          "text": [
            "Epoch 81\n",
            "[0.00146406 1.        ]\n",
            "Epoch 82\n",
            "[0.00103575 1.        ]\n",
            "Epoch 83\n",
            "[7.55892368e-04 1.00000000e+00]\n",
            "Epoch 84\n",
            "[8.43255431e-04 1.00000000e+00]\n",
            "Epoch 85\n",
            "[5.81846572e-04 1.00000000e+00]\n",
            "Epoch 86\n",
            "[6.85730731e-04 1.00000000e+00]\n",
            "Epoch 87\n",
            "[0.00166593 1.        ]\n",
            "Epoch 88\n",
            "[6.48956993e-04 1.00000000e+00]\n",
            "Epoch 89\n",
            "[4.79679657e-04 1.00000000e+00]\n",
            "Epoch 90\n",
            "[9.87540174e-04 1.00000000e+00]\n",
            "Saving generator model\n",
            "Saved!\n",
            "(28, 28)\n"
          ]
        },
        {
          "output_type": "display_data",
          "data": {
            "text/plain": [
              "<Figure size 432x288 with 2 Axes>"
            ],
            "image/png": "[encoded data removed]"
          },
          "metadata": {
            "needs_background": "light"
          }
        },
        {
          "output_type": "stream",
          "name": "stdout",
          "text": [
            "Epoch 91\n",
            "[7.65681471e-04 1.00000000e+00]\n",
            "Epoch 92\n",
            "[0.00143385 1.        ]\n",
            "Epoch 93\n",
            "[7.32214306e-04 1.00000000e+00]\n",
            "Epoch 94\n",
            "[0.00109669 1.        ]\n",
            "Epoch 95\n",
            "[0.00124198 1.        ]\n",
            "Epoch 96\n",
            "[0.00220809 1.        ]\n",
            "Epoch 97\n",
            "[0.00119106 1.        ]\n",
            "Epoch 98\n",
            "[0.00146139 1.        ]\n",
            "Epoch 99\n",
            "[0.00271547 1.        ]\n",
            "Epoch 100\n",
            "[0.00313044 1.        ]\n",
            "Saving generator model\n",
            "Saved!\n",
            "(28, 28)\n"
          ]
        },
        {
          "output_type": "display_data",
          "data": {
            "text/plain": [
              "<Figure size 432x288 with 2 Axes>"
            ],
            "image/png": "[encoded data removed]"
          },
          "metadata": {
            "needs_background": "light"
          }
        },
        {
          "output_type": "stream",
          "name": "stdout",
          "text": [
            "Epoch 101\n",
            "[0.00112046 1.        ]\n",
            "Epoch 102\n",
            "[0.00320664 1.        ]\n",
            "Epoch 103\n",
            "[0.00380437 1.        ]\n",
            "Epoch 104\n",
            "[0.00378488 1.        ]\n",
            "Epoch 105\n",
            "[0.0030241 1.       ]\n",
            "Epoch 106\n",
            "[0.00488794 1.        ]\n",
            "Epoch 107\n",
            "[0.00577901 1.        ]\n",
            "Epoch 108\n",
            "[0.00326014 1.        ]\n",
            "Epoch 109\n",
            "[0.00210044 1.        ]\n",
            "Epoch 110\n",
            "[0.00418245 1.        ]\n",
            "Saving generator model\n",
            "Saved!\n",
            "(28, 28)\n"
          ]
        },
        {
          "output_type": "display_data",
          "data": {
            "text/plain": [
              "<Figure size 432x288 with 2 Axes>"
            ],
            "image/png": "[encoded data removed]"
          },
          "metadata": {
            "needs_background": "light"
          }
        },
        {
          "output_type": "stream",
          "name": "stdout",
          "text": [
            "Epoch 111\n",
            "[0.02035831 1.        ]\n",
            "Epoch 112\n",
            "[0.01835957 1.        ]\n",
            "Epoch 113\n",
            "[0.00404266 1.        ]\n",
            "Epoch 114\n",
            "[0.01905253 1.        ]\n",
            "Epoch 115\n",
            "[0.00604191 1.        ]\n",
            "Epoch 116\n",
            "[0.00595623 1.        ]\n",
            "Epoch 117\n",
            "[0.00502798 1.        ]\n",
            "Epoch 118\n",
            "[0.00525658 1.        ]\n",
            "Epoch 119\n",
            "[0.0028156 1.       ]\n",
            "Epoch 120\n",
            "[0.00655266 1.        ]\n",
            "Saving generator model\n",
            "Saved!\n",
            "(28, 28)\n"
          ]
        },
        {
          "output_type": "display_data",
          "data": {
            "text/plain": [
              "<Figure size 432x288 with 2 Axes>"
            ],
            "image/png": "[encoded data removed]"
          },
          "metadata": {
            "needs_background": "light"
          }
        },
        {
          "output_type": "stream",
          "name": "stdout",
          "text": [
            "Epoch 121\n",
            "[0.01012781 1.        ]\n",
            "Epoch 122\n",
            "[0.00835873 1.        ]\n",
            "Epoch 123\n",
            "[0.01240519 1.        ]\n",
            "Epoch 124\n",
            "[0.00376899 1.        ]\n",
            "Epoch 125\n",
            "[0.00809623 1.        ]\n",
            "Epoch 126\n",
            "[0.04710955 0.984375  ]\n",
            "Epoch 127\n",
            "[0.01630819 1.        ]\n",
            "Epoch 128\n",
            "[0.01447377 1.        ]\n",
            "Epoch 129\n",
            "[0.04239692 0.96875   ]\n",
            "Epoch 130\n",
            "[0.02207237 1.        ]\n",
            "Saving generator model\n",
            "Saved!\n",
            "(28, 28)\n"
          ]
        },
        {
          "output_type": "display_data",
          "data": {
            "text/plain": [
              "<Figure size 432x288 with 2 Axes>"
            ],
            "image/png": "[encoded data removed]"
          },
          "metadata": {
            "needs_background": "light"
          }
        },
        {
          "output_type": "stream",
          "name": "stdout",
          "text": [
            "Epoch 131\n",
            "[0.00962698 1.        ]\n",
            "Epoch 132\n",
            "[0.01099442 1.        ]\n",
            "Epoch 133\n",
            "[0.01534855 1.        ]\n",
            "Epoch 134\n",
            "[0.01280147 1.        ]\n",
            "Epoch 135\n",
            "[0.00926595 1.        ]\n",
            "Epoch 136\n",
            "[0.00767408 1.        ]\n",
            "Epoch 137\n",
            "[0.00588199 1.        ]\n",
            "Epoch 138\n",
            "[0.00902019 1.        ]\n",
            "Epoch 139\n",
            "[0.00924241 1.        ]\n",
            "Epoch 140\n",
            "[0.00757642 1.        ]\n",
            "Saving generator model\n",
            "Saved!\n",
            "(28, 28)\n"
          ]
        },
        {
          "output_type": "display_data",
          "data": {
            "text/plain": [
              "<Figure size 432x288 with 2 Axes>"
            ],
            "image/png": "[encoded data removed]"
          },
          "metadata": {
            "needs_background": "light"
          }
        },
        {
          "output_type": "stream",
          "name": "stdout",
          "text": [
            "Epoch 141\n",
            "[0.00935307 1.        ]\n",
            "Epoch 142\n",
            "[0.00450815 1.        ]\n",
            "Epoch 143\n",
            "[0.00613005 1.        ]\n",
            "Epoch 144\n",
            "[0.00647081 1.        ]\n",
            "Epoch 145\n",
            "[0.00789538 1.        ]\n",
            "Epoch 146\n",
            "[0.01024117 1.        ]\n",
            "Epoch 147\n",
            "[0.00715438 1.        ]\n",
            "Epoch 148\n",
            "[0.00603442 1.        ]\n",
            "Epoch 149\n",
            "[0.00569129 1.        ]\n",
            "Epoch 150\n",
            "[0.01021169 1.        ]\n",
            "Saving generator model\n",
            "Saved!\n",
            "(28, 28)\n"
          ]
        },
        {
          "output_type": "display_data",
          "data": {
            "text/plain": [
              "<Figure size 432x288 with 2 Axes>"
            ],
            "image/png": "[encoded data removed]"
          },
          "metadata": {
            "needs_background": "light"
          }
        },
        {
          "output_type": "stream",
          "name": "stdout",
          "text": [
            "Epoch 151\n",
            "[0.00697725 1.        ]\n",
            "Epoch 152\n",
            "[0.00709246 1.        ]\n",
            "Epoch 153\n",
            "[0.00606769 1.        ]\n",
            "Epoch 154\n",
            "[0.00797296 1.        ]\n",
            "Epoch 155\n",
            "[0.00824982 1.        ]\n",
            "Epoch 156\n",
            "[0.004659 1.      ]\n",
            "Epoch 157\n",
            "[0.00951708 1.        ]\n",
            "Epoch 158\n",
            "[0.01038843 1.        ]\n",
            "Epoch 159\n",
            "[0.01110094 1.        ]\n",
            "Epoch 160\n",
            "[0.00551514 1.        ]\n",
            "Saving generator model\n",
            "Saved!\n",
            "(28, 28)\n"
          ]
        },
        {
          "output_type": "display_data",
          "data": {
            "text/plain": [
              "<Figure size 432x288 with 2 Axes>"
            ],
            "image/png": "[encoded data removed]"
          },
          "metadata": {
            "needs_background": "light"
          }
        },
        {
          "output_type": "stream",
          "name": "stdout",
          "text": [
            "Epoch 161\n",
            "[0.00480893 1.        ]\n",
            "Epoch 162\n",
            "[0.01089823 1.        ]\n",
            "Epoch 163\n",
            "[0.00563809 1.        ]\n",
            "Epoch 164\n",
            "[0.00386404 1.        ]\n",
            "Epoch 165\n",
            "[0.00336878 1.        ]\n",
            "Epoch 166\n",
            "[0.00910295 1.        ]\n",
            "Epoch 167\n",
            "[0.00241485 1.        ]\n",
            "Epoch 168\n",
            "[0.00235527 1.        ]\n",
            "Epoch 169\n",
            "[0.00308886 1.        ]\n",
            "Epoch 170\n",
            "[0.00401874 1.        ]\n",
            "Saving generator model\n",
            "Saved!\n",
            "(28, 28)\n"
          ]
        },
        {
          "output_type": "display_data",
          "data": {
            "text/plain": [
              "<Figure size 432x288 with 2 Axes>"
            ],
            "image/png": "[encoded data removed]"
          },
          "metadata": {
            "needs_background": "light"
          }
        },
        {
          "output_type": "stream",
          "name": "stdout",
          "text": [
            "Epoch 171\n",
            "[0.0022114 1.       ]\n",
            "Epoch 172\n",
            "[0.00149686 1.        ]\n",
            "Epoch 173\n",
            "[0.03574536 0.984375  ]\n",
            "Epoch 174\n",
            "[0.0159455 1.       ]\n",
            "Epoch 175\n",
            "[0.00418285 1.        ]\n",
            "Epoch 176\n",
            "[0.01679727 0.984375  ]\n",
            "Epoch 177\n",
            "[0.00206084 1.        ]\n",
            "Epoch 178\n",
            "[0.0021091 1.       ]\n",
            "Epoch 179\n",
            "[9.59496259e-04 1.00000000e+00]\n",
            "Epoch 180\n",
            "[0.0012971 1.       ]\n",
            "Saving generator model\n",
            "Saved!\n",
            "(28, 28)\n"
          ]
        },
        {
          "output_type": "display_data",
          "data": {
            "text/plain": [
              "<Figure size 432x288 with 2 Axes>"
            ],
            "image/png": "[encoded data removed]"
          },
          "metadata": {
            "needs_background": "light"
          }
        },
        {
          "output_type": "stream",
          "name": "stdout",
          "text": [
            "Epoch 181\n",
            "[0.00188792 1.        ]\n",
            "Epoch 182\n",
            "[0.00265226 1.        ]\n",
            "Epoch 183\n",
            "[0.00854194 1.        ]\n",
            "Epoch 184\n",
            "[0.00402212 1.        ]\n",
            "Epoch 185\n",
            "[0.00429743 1.        ]\n",
            "Epoch 186\n",
            "[0.0023568 1.       ]\n",
            "Epoch 187\n",
            "[0.00101879 1.        ]\n",
            "Epoch 188\n",
            "[0.0026607 1.       ]\n",
            "Epoch 189\n",
            "[8.96862766e-04 1.00000000e+00]\n",
            "Epoch 190\n",
            "[0.00295001 1.        ]\n",
            "Saving generator model\n",
            "Saved!\n",
            "(28, 28)\n"
          ]
        },
        {
          "output_type": "display_data",
          "data": {
            "text/plain": [
              "<Figure size 432x288 with 2 Axes>"
            ],
            "image/png": "[encoded data removed]"
          },
          "metadata": {
            "needs_background": "light"
          }
        },
        {
          "output_type": "stream",
          "name": "stdout",
          "text": [
            "Epoch 191\n",
            "[3.45838158e-04 1.00000000e+00]\n",
            "Epoch 192\n",
            "[0.00569412 1.        ]\n",
            "Epoch 193\n",
            "[0.00156888 1.        ]\n",
            "Epoch 194\n",
            "[0.00182661 1.        ]\n",
            "Epoch 195\n",
            "[0.00236921 1.        ]\n",
            "Epoch 196\n",
            "[0.00159594 1.        ]\n",
            "Epoch 197\n",
            "[9.66296827e-04 1.00000000e+00]\n",
            "Epoch 198\n",
            "[5.67979444e-04 1.00000000e+00]\n",
            "Epoch 199\n",
            "[4.65119447e-04 1.00000000e+00]\n",
            "Epoch 200\n",
            "[0.00258394 1.        ]\n",
            "Saving generator model\n",
            "Saved!\n",
            "(28, 28)\n"
          ]
        },
        {
          "output_type": "display_data",
          "data": {
            "text/plain": [
              "<Figure size 432x288 with 2 Axes>"
            ],
            "image/png": "[encoded data removed]"
          },
          "metadata": {
            "needs_background": "light"
          }
        },
        {
          "output_type": "stream",
          "name": "stdout",
          "text": [
            "Epoch 201\n",
            "[2.88697333e-04 1.00000000e+00]\n",
            "Epoch 202\n",
            "[7.42192206e-04 1.00000000e+00]\n",
            "Epoch 203\n",
            "[3.38633777e-04 1.00000000e+00]\n",
            "Epoch 204\n",
            "[3.20145623e-04 1.00000000e+00]\n",
            "Epoch 205\n",
            "[3.72658171e-04 1.00000000e+00]\n",
            "Epoch 206\n",
            "[5.86809911e-04 1.00000000e+00]\n",
            "Epoch 207\n",
            "[4.0026053e-04 1.0000000e+00]\n",
            "Epoch 208\n",
            "[5.405673e-04 1.000000e+00]\n",
            "Epoch 209\n",
            "[4.3055153e-04 1.0000000e+00]\n",
            "Epoch 210\n",
            "[0.0018333 1.       ]\n",
            "Saving generator model\n",
            "Saved!\n",
            "(28, 28)\n"
          ]
        },
        {
          "output_type": "display_data",
          "data": {
            "text/plain": [
              "<Figure size 432x288 with 2 Axes>"
            ],
            "image/png": "[encoded data removed]"
          },
          "metadata": {
            "needs_background": "light"
          }
        },
        {
          "output_type": "stream",
          "name": "stdout",
          "text": [
            "Epoch 211\n",
            "[6.81740095e-04 1.00000000e+00]\n",
            "Epoch 212\n",
            "[8.46652989e-04 1.00000000e+00]\n",
            "Epoch 213\n",
            "[8.63385605e-04 1.00000000e+00]\n",
            "Epoch 214\n",
            "[9.47796491e-04 1.00000000e+00]\n",
            "Epoch 215\n",
            "[0.00336953 1.        ]\n",
            "Epoch 216\n",
            "[0.00185297 1.        ]\n",
            "Epoch 217\n",
            "[0.00100776 1.        ]\n",
            "Epoch 218\n",
            "[0.00164056 1.        ]\n",
            "Epoch 219\n",
            "[0.00217795 1.        ]\n",
            "Epoch 220\n",
            "[0.00209911 1.        ]\n",
            "Saving generator model\n",
            "Saved!\n",
            "(28, 28)\n"
          ]
        },
        {
          "output_type": "display_data",
          "data": {
            "text/plain": [
              "<Figure size 432x288 with 2 Axes>"
            ],
            "image/png": "[encoded data removed]"
          },
          "metadata": {
            "needs_background": "light"
          }
        },
        {
          "output_type": "stream",
          "name": "stdout",
          "text": [
            "Epoch 221\n",
            "[0.01390417 1.        ]\n",
            "Epoch 222\n",
            "[0.00448881 1.        ]\n",
            "Epoch 223\n",
            "[0.0183243 1.       ]\n",
            "Epoch 224\n",
            "[0.17659602 0.9375    ]\n",
            "Epoch 225\n",
            "[0.13137321 0.9375    ]\n",
            "Epoch 226\n",
            "[0.15721334 0.9375    ]\n",
            "Epoch 227\n",
            "[0.08757124 0.96875   ]\n",
            "Epoch 228\n",
            "[0.09200604 0.953125  ]\n",
            "Epoch 229\n",
            "[0.228056 0.875   ]\n",
            "Epoch 230\n",
            "[0.04918368 0.96875   ]\n",
            "Saving generator model\n",
            "Saved!\n",
            "(28, 28)\n"
          ]
        },
        {
          "output_type": "display_data",
          "data": {
            "text/plain": [
              "<Figure size 432x288 with 2 Axes>"
            ],
            "image/png": "[encoded data removed]"
          },
          "metadata": {
            "needs_background": "light"
          }
        },
        {
          "output_type": "stream",
          "name": "stdout",
          "text": [
            "Epoch 231\n",
            "[0.18125337 0.953125  ]\n",
            "Epoch 232\n",
            "[0.06218108 0.953125  ]\n",
            "Epoch 233\n",
            "[0.03681558 0.984375  ]\n",
            "Epoch 234\n",
            "[0.00213964 1.        ]\n",
            "Epoch 235\n",
            "[9.01251682e-04 1.00000000e+00]\n",
            "Epoch 236\n",
            "[2.61973053e-04 1.00000000e+00]\n",
            "Epoch 237\n",
            "[0.01186535 1.        ]\n",
            "Epoch 238\n",
            "[0.0078929 1.       ]\n",
            "Epoch 239\n",
            "[0.0108602 1.       ]\n",
            "Epoch 240\n",
            "[2.48860651e-04 1.00000000e+00]\n",
            "Saving generator model\n",
            "Saved!\n",
            "(28, 28)\n"
          ]
        },
        {
          "output_type": "display_data",
          "data": {
            "text/plain": [
              "<Figure size 432x288 with 2 Axes>"
            ],
            "image/png": "[encoded data removed]"
          },
          "metadata": {
            "needs_background": "light"
          }
        },
        {
          "output_type": "stream",
          "name": "stdout",
          "text": [
            "Epoch 241\n",
            "[2.68636596e-04 1.00000000e+00]\n",
            "Epoch 242\n",
            "[1.69793526e-04 1.00000000e+00]\n",
            "Epoch 243\n",
            "[2.49217836e-04 1.00000000e+00]\n",
            "Epoch 244\n",
            "[0.00741087 1.        ]\n",
            "Epoch 245\n",
            "[0.02411918 1.        ]\n",
            "Epoch 246\n",
            "[0.13456742 0.984375  ]\n",
            "Epoch 247\n",
            "[0.00266099 1.        ]\n",
            "Epoch 248\n",
            "[0.05673559 0.984375  ]\n",
            "Epoch 249\n",
            "[0.00801934 1.        ]\n",
            "Epoch 250\n",
            "[0.04501997 0.984375  ]\n",
            "Saving generator model\n",
            "Saved!\n",
            "(28, 28)\n"
          ]
        },
        {
          "output_type": "display_data",
          "data": {
            "text/plain": [
              "<Figure size 432x288 with 2 Axes>"
            ],
            "image/png": "[encoded data removed]"
          },
          "metadata": {
            "needs_background": "light"
          }
        },
        {
          "output_type": "stream",
          "name": "stdout",
          "text": [
            "Epoch 251\n",
            "[0.00210983 1.        ]\n",
            "Epoch 252\n",
            "[0.00795278 1.        ]\n",
            "Epoch 253\n",
            "[0.0637806 1.       ]\n",
            "Epoch 254\n",
            "[0.00290424 1.        ]\n",
            "Epoch 255\n",
            "[0.25531222 0.890625  ]\n",
            "Epoch 256\n",
            "[0.03760023 1.        ]\n",
            "Epoch 257\n",
            "[0.03845195 1.        ]\n",
            "Epoch 258\n",
            "[6.29904069e-04 1.00000000e+00]\n",
            "Epoch 259\n",
            "[0.00534489 1.        ]\n",
            "Epoch 260\n",
            "[0.04854933 1.        ]\n",
            "Saving generator model\n",
            "Saved!\n",
            "(28, 28)\n"
          ]
        },
        {
          "output_type": "display_data",
          "data": {
            "text/plain": [
              "<Figure size 432x288 with 2 Axes>"
            ],
            "image/png": "[encoded data removed]"
          },
          "metadata": {
            "needs_background": "light"
          }
        },
        {
          "output_type": "stream",
          "name": "stdout",
          "text": [
            "Epoch 261\n",
            "[0.00423915 1.        ]\n",
            "Epoch 262\n",
            "[9.26641136e-04 1.00000000e+00]\n",
            "Epoch 263\n",
            "[0.00249369 1.        ]\n",
            "Epoch 264\n",
            "[0.02340122 1.        ]\n",
            "Epoch 265\n",
            "[0.00690736 1.        ]\n",
            "Epoch 266\n",
            "[0.00162306 1.        ]\n",
            "Epoch 267\n",
            "[0.00171692 1.        ]\n",
            "Epoch 268\n",
            "[0.00996701 1.        ]\n",
            "Epoch 269\n",
            "[0.00469794 1.        ]\n",
            "Epoch 270\n",
            "[0.00663024 1.        ]\n",
            "Saving generator model\n",
            "Saved!\n",
            "(28, 28)\n"
          ]
        },
        {
          "output_type": "display_data",
          "data": {
            "text/plain": [
              "<Figure size 432x288 with 2 Axes>"
            ],
            "image/png": "[encoded data removed]"
          },
          "metadata": {
            "needs_background": "light"
          }
        },
        {
          "output_type": "stream",
          "name": "stdout",
          "text": [
            "Epoch 271\n",
            "[0.0081406 1.       ]\n",
            "Epoch 272\n",
            "[0.016149 1.      ]\n",
            "Epoch 273\n",
            "[0.02825537 0.984375  ]\n",
            "Epoch 274\n",
            "[0.07971474 0.984375  ]\n",
            "Epoch 275\n",
            "[0.0719962 0.984375 ]\n",
            "Epoch 276\n",
            "[0.03845735 0.984375  ]\n",
            "Epoch 277\n",
            "[0.15905991 0.90625   ]\n",
            "Epoch 278\n",
            "[0.05353837 1.        ]\n",
            "Epoch 279\n",
            "[0.2162841 0.875    ]\n",
            "Epoch 280\n",
            "[0.09256692 0.96875   ]\n",
            "Saving generator model\n",
            "Saved!\n",
            "(28, 28)\n"
          ]
        },
        {
          "output_type": "display_data",
          "data": {
            "text/plain": [
              "<Figure size 432x288 with 2 Axes>"
            ],
            "image/png": "[encoded data removed]"
          },
          "metadata": {
            "needs_background": "light"
          }
        },
        {
          "output_type": "stream",
          "name": "stdout",
          "text": [
            "Epoch 281\n",
            "[0.29290396 0.890625  ]\n",
            "Epoch 282\n",
            "[0.20375229 0.9375    ]\n",
            "Epoch 283\n",
            "[0.07156533 0.96875   ]\n",
            "Epoch 284\n",
            "[0.37308507 0.859375  ]\n",
            "Epoch 285\n",
            "[0.44309657 0.8125    ]\n",
            "Epoch 286\n",
            "[0.0142522 1.       ]\n",
            "Epoch 287\n",
            "[0.18648318 0.921875  ]\n",
            "Epoch 288\n",
            "[0.17388436 0.96875   ]\n",
            "Epoch 289\n",
            "[0.0446804 0.984375 ]\n",
            "Epoch 290\n",
            "[0.06877221 1.        ]\n",
            "Saving generator model\n",
            "Saved!\n",
            "(28, 28)\n"
          ]
        },
        {
          "output_type": "display_data",
          "data": {
            "text/plain": [
              "<Figure size 432x288 with 2 Axes>"
            ],
            "image/png": "[encoded data removed]"
          },
          "metadata": {
            "needs_background": "light"
          }
        },
        {
          "output_type": "stream",
          "name": "stdout",
          "text": [
            "Epoch 291\n",
            "[0.04638657 1.        ]\n",
            "Epoch 292\n",
            "[0.01520193 1.        ]\n",
            "Epoch 293\n",
            "[0.00806571 1.        ]\n",
            "Epoch 294\n",
            "[0.04112272 0.984375  ]\n",
            "Epoch 295\n",
            "[0.01972994 0.984375  ]\n",
            "Epoch 296\n",
            "[0.0408002 0.96875  ]\n",
            "Epoch 297\n",
            "[0.01103215 1.        ]\n",
            "Epoch 298\n",
            "[0.01524471 1.        ]\n",
            "Epoch 299\n",
            "[0.01426486 1.        ]\n",
            "Epoch 300\n",
            "[0.01003244 1.        ]\n",
            "Saving generator model\n",
            "Saved!\n",
            "(28, 28)\n"
          ]
        },
        {
          "output_type": "display_data",
          "data": {
            "text/plain": [
              "<Figure size 432x288 with 2 Axes>"
            ],
            "image/png": "[encoded data removed]"
          },
          "metadata": {
            "needs_background": "light"
          }
        },
        {
          "output_type": "stream",
          "name": "stdout",
          "text": [
            "Epoch 301\n",
            "[0.00531655 1.        ]\n",
            "Epoch 302\n",
            "[0.00416215 1.        ]\n",
            "Epoch 303\n",
            "[0.00334155 1.        ]\n",
            "Epoch 304\n",
            "[0.02801977 0.984375  ]\n",
            "Epoch 305\n",
            "[0.00600196 1.        ]\n",
            "Epoch 306\n",
            "[0.0025657 1.       ]\n",
            "Epoch 307\n",
            "[0.00410767 1.        ]\n",
            "Epoch 308\n",
            "[0.0030048 1.       ]\n",
            "Epoch 309\n",
            "[0.0029253 1.       ]\n",
            "Epoch 310\n",
            "[0.00480018 1.        ]\n",
            "Saving generator model\n",
            "Saved!\n",
            "(28, 28)\n"
          ]
        },
        {
          "output_type": "display_data",
          "data": {
            "text/plain": [
              "<Figure size 432x288 with 2 Axes>"
            ],
            "image/png": "[encoded data removed]"
          },
          "metadata": {
            "needs_background": "light"
          }
        },
        {
          "output_type": "stream",
          "name": "stdout",
          "text": [
            "Epoch 311\n",
            "[0.00832004 1.        ]\n",
            "Epoch 312\n",
            "[0.00282139 1.        ]\n",
            "Epoch 313\n",
            "[0.00264391 1.        ]\n",
            "Epoch 314\n",
            "[0.00287548 1.        ]\n",
            "Epoch 315\n",
            "[0.00501056 1.        ]\n",
            "Epoch 316\n",
            "[0.00207284 1.        ]\n",
            "Epoch 317\n",
            "[0.00234013 1.        ]\n",
            "Epoch 318\n",
            "[0.00155211 1.        ]\n",
            "Epoch 319\n",
            "[0.00143265 1.        ]\n",
            "Epoch 320\n",
            "[0.00124557 1.        ]\n",
            "Saving generator model\n",
            "Saved!\n",
            "(28, 28)\n"
          ]
        },
        {
          "output_type": "display_data",
          "data": {
            "text/plain": [
              "<Figure size 432x288 with 2 Axes>"
            ],
            "image/png": "[encoded data removed]"
          },
          "metadata": {
            "needs_background": "light"
          }
        },
        {
          "output_type": "stream",
          "name": "stdout",
          "text": [
            "Epoch 321\n",
            "[0.00134304 1.        ]\n",
            "Epoch 322\n",
            "[0.00235037 1.        ]\n",
            "Epoch 323\n",
            "[9.37007339e-04 1.00000000e+00]\n",
            "Epoch 324\n",
            "[0.00124771 1.        ]\n",
            "Epoch 325\n",
            "[0.0021296 1.       ]\n",
            "Epoch 326\n",
            "[0.00446117 1.        ]\n",
            "Epoch 327\n",
            "[0.00107845 1.        ]\n",
            "Epoch 328\n",
            "[0.00173959 1.        ]\n",
            "Epoch 329\n",
            "[0.00119405 1.        ]\n",
            "Epoch 330\n",
            "[0.00428492 1.        ]\n",
            "Saving generator model\n",
            "Saved!\n",
            "(28, 28)\n"
          ]
        },
        {
          "output_type": "display_data",
          "data": {
            "text/plain": [
              "<Figure size 432x288 with 2 Axes>"
            ],
            "image/png": "[encoded data removed]"
          },
          "metadata": {
            "needs_background": "light"
          }
        },
        {
          "output_type": "stream",
          "name": "stdout",
          "text": [
            "Epoch 331\n",
            "[0.00414718 1.        ]\n",
            "Epoch 332\n",
            "[0.00172848 1.        ]\n",
            "Epoch 333\n",
            "[0.00203026 1.        ]\n",
            "Epoch 334\n",
            "[0.00429016 1.        ]\n",
            "Epoch 335\n",
            "[0.0019961 1.       ]\n",
            "Epoch 336\n",
            "[0.01680425 0.984375  ]\n",
            "Epoch 337\n",
            "[0.00454363 1.        ]\n",
            "Epoch 338\n",
            "[0.00428399 1.        ]\n",
            "Epoch 339\n",
            "[0.00394256 1.        ]\n",
            "Epoch 340\n",
            "[0.00429578 1.        ]\n",
            "Saving generator model\n",
            "Saved!\n",
            "(28, 28)\n"
          ]
        },
        {
          "output_type": "display_data",
          "data": {
            "text/plain": [
              "<Figure size 432x288 with 2 Axes>"
            ],
            "image/png": "[encoded data removed]"
          },
          "metadata": {
            "needs_background": "light"
          }
        },
        {
          "output_type": "stream",
          "name": "stdout",
          "text": [
            "Epoch 341\n",
            "[0.00273567 1.        ]\n",
            "Epoch 342\n",
            "[0.00196983 1.        ]\n",
            "Epoch 343\n",
            "[0.00317752 1.        ]\n",
            "Epoch 344\n",
            "[0.00340419 1.        ]\n",
            "Epoch 345\n",
            "[0.00150935 1.        ]\n",
            "Epoch 346\n",
            "[0.00334266 1.        ]\n",
            "Epoch 347\n",
            "[0.00130273 1.        ]\n",
            "Epoch 348\n",
            "[0.001179 1.      ]\n",
            "Epoch 349\n",
            "[9.70359435e-04 1.00000000e+00]\n",
            "Epoch 350\n",
            "[0.00196423 1.        ]\n",
            "Saving generator model\n",
            "Saved!\n",
            "(28, 28)\n"
          ]
        },
        {
          "output_type": "display_data",
          "data": {
            "text/plain": [
              "<Figure size 432x288 with 2 Axes>"
            ],
            "image/png": "[encoded data removed]"
          },
          "metadata": {
            "needs_background": "light"
          }
        },
        {
          "output_type": "stream",
          "name": "stdout",
          "text": [
            "Epoch 351\n",
            "[9.75019786e-04 1.00000000e+00]\n",
            "Epoch 352\n",
            "[0.00149934 1.        ]\n",
            "Epoch 353\n",
            "[0.00354262 1.        ]\n",
            "Epoch 354\n",
            "[0.00584608 1.        ]\n",
            "Epoch 355\n",
            "[0.00188336 1.        ]\n",
            "Epoch 356\n",
            "[0.00187582 1.        ]\n",
            "Epoch 357\n",
            "[0.00207055 1.        ]\n",
            "Epoch 358\n",
            "[0.00214433 1.        ]\n",
            "Epoch 359\n",
            "[0.00194625 1.        ]\n",
            "Epoch 360\n",
            "[0.0037609 1.       ]\n",
            "Saving generator model\n",
            "Saved!\n",
            "(28, 28)\n"
          ]
        },
        {
          "output_type": "display_data",
          "data": {
            "text/plain": [
              "<Figure size 432x288 with 2 Axes>"
            ],
            "image/png": "[encoded data removed]"
          },
          "metadata": {
            "needs_background": "light"
          }
        },
        {
          "output_type": "stream",
          "name": "stdout",
          "text": [
            "Epoch 361\n",
            "[0.02442849 0.984375  ]\n",
            "Epoch 362\n",
            "[0.00455925 1.        ]\n",
            "Epoch 363\n",
            "[0.00942478 1.        ]\n",
            "Epoch 364\n",
            "[0.00661451 1.        ]\n",
            "Epoch 365\n",
            "[0.00644962 1.        ]\n",
            "Epoch 366\n",
            "[0.00330853 1.        ]\n",
            "Epoch 367\n",
            "[0.01050279 1.        ]\n",
            "Epoch 368\n",
            "[0.00215777 1.        ]\n",
            "Epoch 369\n",
            "[0.00162699 1.        ]\n",
            "Epoch 370\n",
            "[0.00169081 1.        ]\n",
            "Saving generator model\n",
            "Saved!\n",
            "(28, 28)\n"
          ]
        },
        {
          "output_type": "display_data",
          "data": {
            "text/plain": [
              "<Figure size 432x288 with 2 Axes>"
            ],
            "image/png": "[encoded data removed]"
          },
          "metadata": {
            "needs_background": "light"
          }
        },
        {
          "output_type": "stream",
          "name": "stdout",
          "text": [
            "Epoch 371\n",
            "[0.0176271 0.984375 ]\n",
            "Epoch 372\n",
            "[0.00292038 1.        ]\n",
            "Epoch 373\n",
            "[0.00374327 1.        ]\n",
            "Epoch 374\n",
            "[0.00352415 1.        ]\n",
            "Epoch 375\n",
            "[0.00318861 1.        ]\n",
            "Epoch 376\n",
            "[0.00370335 1.        ]\n",
            "Epoch 377\n",
            "[0.00216108 1.        ]\n",
            "Epoch 378\n",
            "[0.00212209 1.        ]\n",
            "Epoch 379\n",
            "[0.01297164 1.        ]\n",
            "Epoch 380\n",
            "[0.0031122 1.       ]\n",
            "Saving generator model\n",
            "Saved!\n",
            "(28, 28)\n"
          ]
        },
        {
          "output_type": "display_data",
          "data": {
            "text/plain": [
              "<Figure size 432x288 with 2 Axes>"
            ],
            "image/png": "[encoded data removed]"
          },
          "metadata": {
            "needs_background": "light"
          }
        },
        {
          "output_type": "stream",
          "name": "stdout",
          "text": [
            "Epoch 381\n",
            "[0.00406294 1.        ]\n",
            "Epoch 382\n",
            "[0.00371088 1.        ]\n",
            "Epoch 383\n",
            "[0.00273202 1.        ]\n",
            "Epoch 384\n",
            "[0.00223162 1.        ]\n",
            "Epoch 385\n",
            "[0.00634376 1.        ]\n",
            "Epoch 386\n",
            "[0.00485384 1.        ]\n",
            "Epoch 387\n",
            "[0.0029818 1.       ]\n",
            "Epoch 388\n",
            "[0.00391636 1.        ]\n",
            "Epoch 389\n",
            "[0.00615572 1.        ]\n",
            "Epoch 390\n",
            "[0.00483084 1.        ]\n",
            "Saving generator model\n",
            "Saved!\n",
            "(28, 28)\n"
          ]
        },
        {
          "output_type": "display_data",
          "data": {
            "text/plain": [
              "<Figure size 432x288 with 2 Axes>"
            ],
            "image/png": "[encoded data removed]"
          },
          "metadata": {
            "needs_background": "light"
          }
        },
        {
          "output_type": "stream",
          "name": "stdout",
          "text": [
            "Epoch 391\n",
            "[0.0117174 1.       ]\n",
            "Epoch 392\n",
            "[0.0049251 1.       ]\n",
            "Epoch 393\n",
            "[0.03158093 0.984375  ]\n",
            "Epoch 394\n",
            "[0.0184423 1.       ]\n",
            "Epoch 395\n",
            "[0.00890005 1.        ]\n",
            "Epoch 396\n",
            "[0.00670815 1.        ]\n",
            "Epoch 397\n",
            "[0.00621898 1.        ]\n",
            "Epoch 398\n",
            "[0.00367017 1.        ]\n",
            "Epoch 399\n",
            "[0.01924439 0.984375  ]\n",
            "Epoch 400\n",
            "[0.01282539 1.        ]\n",
            "Saving generator model\n",
            "Saved!\n",
            "(28, 28)\n"
          ]
        },
        {
          "output_type": "display_data",
          "data": {
            "text/plain": [
              "<Figure size 432x288 with 2 Axes>"
            ],
            "image/png": "[encoded data removed]"
          },
          "metadata": {
            "needs_background": "light"
          }
        },
        {
          "output_type": "stream",
          "name": "stdout",
          "text": [
            "Epoch 401\n",
            "[0.01145638 1.        ]\n",
            "Epoch 402\n",
            "[0.01230689 1.        ]\n",
            "Epoch 403\n",
            "[0.00347039 1.        ]\n",
            "Epoch 404\n",
            "[0.00198846 1.        ]\n",
            "Epoch 405\n",
            "[0.0118939 1.       ]\n",
            "Epoch 406\n",
            "[0.00403313 1.        ]\n",
            "Epoch 407\n",
            "[0.00184543 1.        ]\n",
            "Epoch 408\n",
            "[0.00563882 1.        ]\n",
            "Epoch 409\n",
            "[0.02489706 0.984375  ]\n",
            "Epoch 410\n",
            "[0.01308204 1.        ]\n",
            "Saving generator model\n",
            "Saved!\n",
            "(28, 28)\n"
          ]
        },
        {
          "output_type": "display_data",
          "data": {
            "text/plain": [
              "<Figure size 432x288 with 2 Axes>"
            ],
            "image/png": "[encoded data removed]"
          },
          "metadata": {
            "needs_background": "light"
          }
        },
        {
          "output_type": "stream",
          "name": "stdout",
          "text": [
            "Epoch 411\n",
            "[0.00668351 1.        ]\n",
            "Epoch 412\n",
            "[0.02222635 0.984375  ]\n",
            "Epoch 413\n",
            "[0.01134144 1.        ]\n",
            "Epoch 414\n",
            "[0.00924224 1.        ]\n",
            "Epoch 415\n",
            "[0.03746396 0.984375  ]\n",
            "Epoch 416\n",
            "[0.01545252 1.        ]\n",
            "Epoch 417\n",
            "[0.02762495 1.        ]\n",
            "Epoch 418\n",
            "[0.07419239 0.96875   ]\n",
            "Epoch 419\n",
            "[0.01947509 1.        ]\n",
            "Epoch 420\n",
            "[0.05076614 0.984375  ]\n",
            "Saving generator model\n",
            "Saved!\n",
            "(28, 28)\n"
          ]
        },
        {
          "output_type": "display_data",
          "data": {
            "text/plain": [
              "<Figure size 432x288 with 2 Axes>"
            ],
            "image/png": "[encoded data removed]"
          },
          "metadata": {
            "needs_background": "light"
          }
        },
        {
          "output_type": "stream",
          "name": "stdout",
          "text": [
            "Epoch 421\n",
            "[0.43748891 0.734375  ]\n",
            "Epoch 422\n",
            "[0.20687652 0.953125  ]\n",
            "Epoch 423\n",
            "[0.07770805 0.953125  ]\n",
            "Epoch 424\n",
            "[0.20298403 0.90625   ]\n",
            "Epoch 425\n",
            "[0.00809489 1.        ]\n",
            "Epoch 426\n",
            "[1.0592389 0.5625   ]\n",
            "Epoch 427\n",
            "[4.7057678 0.5      ]\n",
            "Epoch 428\n",
            "[0.00244884 1.        ]\n",
            "Epoch 429\n",
            "[0.0014377 1.       ]\n",
            "Epoch 430\n",
            "[0.18078104 0.90625   ]\n",
            "Saving generator model\n",
            "Saved!\n",
            "(28, 28)\n"
          ]
        },
        {
          "output_type": "display_data",
          "data": {
            "text/plain": [
              "<Figure size 432x288 with 2 Axes>"
            ],
            "image/png": "[encoded data removed]"
          },
          "metadata": {
            "needs_background": "light"
          }
        },
        {
          "output_type": "stream",
          "name": "stdout",
          "text": [
            "Epoch 431\n",
            "[0.35646158 0.84375   ]\n",
            "Epoch 432\n",
            "[0.03975349 0.984375  ]\n",
            "Epoch 433\n",
            "[0.00294108 1.        ]\n",
            "Epoch 434\n",
            "[1.87491553e-04 1.00000000e+00]\n",
            "Epoch 435\n",
            "[4.32344991e-04 1.00000000e+00]\n",
            "Epoch 436\n",
            "[1.24238569e-04 1.00000000e+00]\n",
            "Epoch 437\n",
            "[5.36016124e-05 1.00000000e+00]\n",
            "Epoch 438\n",
            "[4.54317716e-06 1.00000000e+00]\n",
            "Epoch 439\n",
            "[2.38569061e-06 1.00000000e+00]\n",
            "Epoch 440\n",
            "[1.14622375e-05 1.00000000e+00]\n",
            "Saving generator model\n",
            "Saved!\n",
            "(28, 28)\n"
          ]
        },
        {
          "output_type": "display_data",
          "data": {
            "text/plain": [
              "<Figure size 432x288 with 2 Axes>"
            ],
            "image/png": "[encoded data removed]"
          },
          "metadata": {
            "needs_background": "light"
          }
        },
        {
          "output_type": "stream",
          "name": "stdout",
          "text": [
            "Epoch 441\n",
            "[0.0012682 1.       ]\n",
            "Epoch 442\n",
            "[3.97889215e-06 1.00000000e+00]\n",
            "Epoch 443\n",
            "[5.78044535e-06 1.00000000e+00]\n",
            "Epoch 444\n",
            "[1.25321742e-05 1.00000000e+00]\n",
            "Epoch 445\n",
            "[3.00598497e-05 1.00000000e+00]\n",
            "Epoch 446\n",
            "[5.51610363e-05 1.00000000e+00]\n",
            "Epoch 447\n",
            "[9.64233685e-05 1.00000000e+00]\n",
            "Epoch 448\n",
            "[1.54673463e-04 1.00000000e+00]\n",
            "Epoch 449\n",
            "[2.99871018e-04 1.00000000e+00]\n",
            "Epoch 450\n",
            "[5.11831628e-04 1.00000000e+00]\n",
            "Saving generator model\n",
            "Saved!\n",
            "(28, 28)\n"
          ]
        },
        {
          "output_type": "display_data",
          "data": {
            "text/plain": [
              "<Figure size 432x288 with 2 Axes>"
            ],
            "image/png": "[encoded data removed]"
          },
          "metadata": {
            "needs_background": "light"
          }
        },
        {
          "output_type": "stream",
          "name": "stdout",
          "text": [
            "Epoch 451\n",
            "[7.38062793e-04 1.00000000e+00]\n",
            "Epoch 452\n",
            "[0.00113358 1.        ]\n",
            "Epoch 453\n",
            "[0.00172566 1.        ]\n",
            "Epoch 454\n",
            "[0.00218197 1.        ]\n",
            "Epoch 455\n",
            "[0.00313371 1.        ]\n",
            "Epoch 456\n",
            "[0.00399511 1.        ]\n",
            "Epoch 457\n",
            "[0.00468499 1.        ]\n",
            "Epoch 458\n",
            "[0.00517358 1.        ]\n",
            "Epoch 459\n",
            "[0.00551132 1.        ]\n",
            "Epoch 460\n",
            "[0.00544959 1.        ]\n",
            "Saving generator model\n",
            "Saved!\n",
            "(28, 28)\n"
          ]
        },
        {
          "output_type": "display_data",
          "data": {
            "text/plain": [
              "<Figure size 432x288 with 2 Axes>"
            ],
            "image/png": "[encoded data removed]"
          },
          "metadata": {
            "needs_background": "light"
          }
        },
        {
          "output_type": "stream",
          "name": "stdout",
          "text": [
            "Epoch 461\n",
            "[0.00512258 1.        ]\n",
            "Epoch 462\n",
            "[0.00455792 1.        ]\n",
            "Epoch 463\n",
            "[0.00390622 1.        ]\n",
            "Epoch 464\n",
            "[0.00334792 1.        ]\n",
            "Epoch 465\n",
            "[0.00303801 1.        ]\n",
            "Epoch 466\n",
            "[0.00294176 1.        ]\n",
            "Epoch 467\n",
            "[0.00290419 1.        ]\n",
            "Epoch 468\n",
            "[0.00258796 1.        ]\n",
            "Epoch 469\n",
            "[0.00226745 1.        ]\n",
            "Epoch 470\n",
            "[0.00222806 1.        ]\n",
            "Saving generator model\n",
            "Saved!\n",
            "(28, 28)\n"
          ]
        },
        {
          "output_type": "display_data",
          "data": {
            "text/plain": [
              "<Figure size 432x288 with 2 Axes>"
            ],
            "image/png": "[encoded data removed]"
          },
          "metadata": {
            "needs_background": "light"
          }
        },
        {
          "output_type": "stream",
          "name": "stdout",
          "text": [
            "Epoch 471\n",
            "[0.00303308 1.        ]\n",
            "Epoch 472\n",
            "[0.00253887 1.        ]\n",
            "Epoch 473\n",
            "[0.00228702 1.        ]\n",
            "Epoch 474\n",
            "[0.00362887 1.        ]\n",
            "Epoch 475\n",
            "[0.00306767 1.        ]\n",
            "Epoch 476\n",
            "[0.00412329 1.        ]\n",
            "Epoch 477\n",
            "[0.00256082 1.        ]\n",
            "Epoch 478\n",
            "[0.0066819 1.       ]\n",
            "Epoch 479\n",
            "[0.00656749 1.        ]\n",
            "Epoch 480\n",
            "[0.01495159 1.        ]\n",
            "Saving generator model\n",
            "Saved!\n",
            "(28, 28)\n"
          ]
        },
        {
          "output_type": "display_data",
          "data": {
            "text/plain": [
              "<Figure size 432x288 with 2 Axes>"
            ],
            "image/png": "[encoded data removed]"
          },
          "metadata": {
            "needs_background": "light"
          }
        },
        {
          "output_type": "stream",
          "name": "stdout",
          "text": [
            "Epoch 481\n",
            "[0.01242343 1.        ]\n",
            "Epoch 482\n",
            "[0.00881804 1.        ]\n",
            "Epoch 483\n",
            "[0.01137403 1.        ]\n",
            "Epoch 484\n",
            "[0.00835758 1.        ]\n",
            "Epoch 485\n",
            "[0.03027794 0.984375  ]\n",
            "Epoch 486\n",
            "[0.00865213 1.        ]\n",
            "Epoch 487\n",
            "[0.01199363 1.        ]\n",
            "Epoch 488\n",
            "[0.00805537 1.        ]\n",
            "Epoch 489\n",
            "[0.00821009 1.        ]\n",
            "Epoch 490\n",
            "[0.0411394 0.96875  ]\n",
            "Saving generator model\n",
            "Saved!\n",
            "(28, 28)\n"
          ]
        },
        {
          "output_type": "display_data",
          "data": {
            "text/plain": [
              "<Figure size 432x288 with 2 Axes>"
            ],
            "image/png": "[encoded data removed]"
          },
          "metadata": {
            "needs_background": "light"
          }
        },
        {
          "output_type": "stream",
          "name": "stdout",
          "text": [
            "Epoch 491\n",
            "[0.03267665 0.984375  ]\n",
            "Epoch 492\n",
            "[0.0138038 1.       ]\n",
            "Epoch 493\n",
            "[0.05940111 0.96875   ]\n",
            "Epoch 494\n",
            "[0.02016976 1.        ]\n",
            "Epoch 495\n",
            "[0.05173916 0.984375  ]\n",
            "Epoch 496\n",
            "[0.01983301 1.        ]\n",
            "Epoch 497\n",
            "[0.03140924 0.984375  ]\n",
            "Epoch 498\n",
            "[0.01036997 1.        ]\n",
            "Epoch 499\n",
            "[0.00898146 1.        ]\n",
            "Epoch 500\n",
            "[0.0120769 1.       ]\n",
            "Saving generator model\n",
            "Saved!\n",
            "(28, 28)\n"
          ]
        },
        {
          "output_type": "display_data",
          "data": {
            "text/plain": [
              "<Figure size 432x288 with 2 Axes>"
            ],
            "image/png": "[encoded data removed]"
          },
          "metadata": {
            "needs_background": "light"
          }
        },
        {
          "output_type": "stream",
          "name": "stdout",
          "text": [
            "Epoch 501\n",
            "[0.02071303 0.984375  ]\n",
            "Epoch 502\n",
            "[0.00468318 1.        ]\n",
            "Epoch 503\n",
            "[0.0121278 1.       ]\n",
            "Epoch 504\n",
            "[0.02964969 0.984375  ]\n",
            "Epoch 505\n",
            "[0.03090368 0.984375  ]\n",
            "Epoch 506\n",
            "[0.02901429 1.        ]\n",
            "Epoch 507\n",
            "[0.01183354 1.        ]\n",
            "Epoch 508\n",
            "[0.00535998 1.        ]\n",
            "Epoch 509\n",
            "[0.0160681 0.984375 ]\n",
            "Epoch 510\n",
            "[0.01347454 1.        ]\n",
            "Saving generator model\n",
            "Saved!\n",
            "(28, 28)\n"
          ]
        },
        {
          "output_type": "display_data",
          "data": {
            "text/plain": [
              "<Figure size 432x288 with 2 Axes>"
            ],
            "image/png": "[encoded data removed]"
          },
          "metadata": {
            "needs_background": "light"
          }
        },
        {
          "output_type": "stream",
          "name": "stdout",
          "text": [
            "Epoch 511\n",
            "[0.00171419 1.        ]\n",
            "Epoch 512\n",
            "[0.01844565 0.984375  ]\n",
            "Epoch 513\n",
            "[0.00483002 1.        ]\n",
            "Epoch 514\n",
            "[0.01256803 1.        ]\n",
            "Epoch 515\n",
            "[0.01594049 1.        ]\n",
            "Epoch 516\n",
            "[0.00502687 1.        ]\n",
            "Epoch 517\n",
            "[0.00824002 1.        ]\n",
            "Epoch 518\n",
            "[0.00188293 1.        ]\n",
            "Epoch 519\n",
            "[0.00123994 1.        ]\n",
            "Epoch 520\n",
            "[0.00101126 1.        ]\n",
            "Saving generator model\n",
            "Saved!\n",
            "(28, 28)\n"
          ]
        },
        {
          "output_type": "display_data",
          "data": {
            "text/plain": [
              "<Figure size 432x288 with 2 Axes>"
            ],
            "image/png": "[encoded data removed]"
          },
          "metadata": {
            "needs_background": "light"
          }
        },
        {
          "output_type": "stream",
          "name": "stdout",
          "text": [
            "Epoch 521\n",
            "[9.29479051e-04 1.00000000e+00]\n",
            "Epoch 522\n",
            "[4.73155684e-04 1.00000000e+00]\n",
            "Epoch 523\n",
            "[0.0049613 1.       ]\n",
            "Epoch 524\n",
            "[0.00349992 1.        ]\n",
            "Epoch 525\n",
            "[0.00152172 1.        ]\n",
            "Epoch 526\n",
            "[8.07473451e-04 1.00000000e+00]\n",
            "Epoch 527\n",
            "[0.00123147 1.        ]\n",
            "Epoch 528\n",
            "[0.00102228 1.        ]\n",
            "Epoch 529\n",
            "[0.00157878 1.        ]\n",
            "Epoch 530\n",
            "[0.00166754 1.        ]\n",
            "Saving generator model\n",
            "Saved!\n",
            "(28, 28)\n"
          ]
        },
        {
          "output_type": "display_data",
          "data": {
            "text/plain": [
              "<Figure size 432x288 with 2 Axes>"
            ],
            "image/png": "[encoded data removed]"
          },
          "metadata": {
            "needs_background": "light"
          }
        },
        {
          "output_type": "stream",
          "name": "stdout",
          "text": [
            "Epoch 531\n",
            "[7.75867855e-04 1.00000000e+00]\n",
            "Epoch 532\n",
            "[0.00425676 1.        ]\n",
            "Epoch 533\n",
            "[0.00109255 1.        ]\n",
            "Epoch 534\n",
            "[0.00178784 1.        ]\n",
            "Epoch 535\n",
            "[0.00166696 1.        ]\n",
            "Epoch 536\n",
            "[9.92720394e-04 1.00000000e+00]\n",
            "Epoch 537\n",
            "[0.00164112 1.        ]\n",
            "Epoch 538\n",
            "[0.00284243 1.        ]\n",
            "Epoch 539\n",
            "[0.01397878 0.984375  ]\n",
            "Epoch 540\n",
            "[0.01045987 1.        ]\n",
            "Saving generator model\n",
            "Saved!\n",
            "(28, 28)\n"
          ]
        },
        {
          "output_type": "display_data",
          "data": {
            "text/plain": [
              "<Figure size 432x288 with 2 Axes>"
            ],
            "image/png": "[encoded data removed]"
          },
          "metadata": {
            "needs_background": "light"
          }
        },
        {
          "output_type": "stream",
          "name": "stdout",
          "text": [
            "Epoch 541\n",
            "[0.00327336 1.        ]\n",
            "Epoch 542\n",
            "[0.00232935 1.        ]\n",
            "Epoch 543\n",
            "[0.0039913 1.       ]\n",
            "Epoch 544\n",
            "[0.00280937 1.        ]\n",
            "Epoch 545\n",
            "[0.00217424 1.        ]\n",
            "Epoch 546\n",
            "[0.00204797 1.        ]\n",
            "Epoch 547\n",
            "[0.00253197 1.        ]\n",
            "Epoch 548\n",
            "[0.00165114 1.        ]\n",
            "Epoch 549\n",
            "[0.00497728 1.        ]\n",
            "Epoch 550\n",
            "[0.00232036 1.        ]\n",
            "Saving generator model\n",
            "Saved!\n",
            "(28, 28)\n"
          ]
        },
        {
          "output_type": "display_data",
          "data": {
            "text/plain": [
              "<Figure size 432x288 with 2 Axes>"
            ],
            "image/png": "[encoded data removed]"
          },
          "metadata": {
            "needs_background": "light"
          }
        },
        {
          "output_type": "stream",
          "name": "stdout",
          "text": [
            "Epoch 551\n",
            "[0.00322448 1.        ]\n",
            "Epoch 552\n",
            "[0.00472971 1.        ]\n",
            "Epoch 553\n",
            "[0.00272808 1.        ]\n",
            "Epoch 554\n",
            "[0.00383678 1.        ]\n",
            "Epoch 555\n",
            "[0.00250569 1.        ]\n",
            "Epoch 556\n",
            "[0.0024506 1.       ]\n",
            "Epoch 557\n",
            "[0.00255463 1.        ]\n",
            "Epoch 558\n",
            "[0.00434305 1.        ]\n",
            "Epoch 559\n",
            "[0.00269128 1.        ]\n",
            "Epoch 560\n",
            "[0.02036743 0.984375  ]\n",
            "Saving generator model\n",
            "Saved!\n",
            "(28, 28)\n"
          ]
        },
        {
          "output_type": "display_data",
          "data": {
            "text/plain": [
              "<Figure size 432x288 with 2 Axes>"
            ],
            "image/png": "[encoded data removed]"
          },
          "metadata": {
            "needs_background": "light"
          }
        },
        {
          "output_type": "stream",
          "name": "stdout",
          "text": [
            "Epoch 561\n",
            "[0.00312458 1.        ]\n",
            "Epoch 562\n",
            "[0.00529477 1.        ]\n",
            "Epoch 563\n",
            "[0.00373228 1.        ]\n",
            "Epoch 564\n",
            "[0.00452842 1.        ]\n",
            "Epoch 565\n",
            "[0.00503215 1.        ]\n",
            "Epoch 566\n",
            "[0.00424061 1.        ]\n",
            "Epoch 567\n",
            "[0.00945782 1.        ]\n",
            "Epoch 568\n",
            "[0.00655633 1.        ]\n",
            "Epoch 569\n",
            "[0.00289442 1.        ]\n",
            "Epoch 570\n",
            "[0.00488161 1.        ]\n",
            "Saving generator model\n",
            "Saved!\n",
            "(28, 28)\n"
          ]
        },
        {
          "output_type": "display_data",
          "data": {
            "text/plain": [
              "<Figure size 432x288 with 2 Axes>"
            ],
            "image/png": "[encoded data removed]"
          },
          "metadata": {
            "needs_background": "light"
          }
        },
        {
          "output_type": "stream",
          "name": "stdout",
          "text": [
            "Epoch 571\n",
            "[0.00568517 1.        ]\n",
            "Epoch 572\n",
            "[0.0092303 1.       ]\n",
            "Epoch 573\n",
            "[0.01130558 1.        ]\n",
            "Epoch 574\n",
            "[0.00972222 1.        ]\n",
            "Epoch 575\n",
            "[0.01069432 1.        ]\n",
            "Epoch 576\n",
            "[0.01334949 1.        ]\n",
            "Epoch 577\n",
            "[0.0069976 1.       ]\n",
            "Epoch 578\n",
            "[0.00445681 1.        ]\n",
            "Epoch 579\n",
            "[0.0040197 1.       ]\n",
            "Epoch 580\n",
            "[0.00198071 1.        ]\n",
            "Saving generator model\n",
            "Saved!\n",
            "(28, 28)\n"
          ]
        },
        {
          "output_type": "display_data",
          "data": {
            "text/plain": [
              "<Figure size 432x288 with 2 Axes>"
            ],
            "image/png": "[encoded data removed]"
          },
          "metadata": {
            "needs_background": "light"
          }
        },
        {
          "output_type": "stream",
          "name": "stdout",
          "text": [
            "Epoch 581\n",
            "[0.00177283 1.        ]\n",
            "Epoch 582\n",
            "[0.00508249 1.        ]\n",
            "Epoch 583\n",
            "[0.00237663 1.        ]\n",
            "Epoch 584\n",
            "[0.00893958 1.        ]\n",
            "Epoch 585\n",
            "[0.0015894 1.       ]\n",
            "Epoch 586\n",
            "[0.00150693 1.        ]\n",
            "Epoch 587\n",
            "[0.00498717 1.        ]\n",
            "Epoch 588\n",
            "[0.00232959 1.        ]\n",
            "Epoch 589\n",
            "[0.01943957 0.984375  ]\n",
            "Epoch 590\n",
            "[0.00309561 1.        ]\n",
            "Saving generator model\n",
            "Saved!\n",
            "(28, 28)\n"
          ]
        },
        {
          "output_type": "display_data",
          "data": {
            "text/plain": [
              "<Figure size 432x288 with 2 Axes>"
            ],
            "image/png": "[encoded data removed]"
          },
          "metadata": {
            "needs_background": "light"
          }
        },
        {
          "output_type": "stream",
          "name": "stdout",
          "text": [
            "Epoch 591\n",
            "[0.0041072 1.       ]\n",
            "Epoch 592\n",
            "[0.00480984 1.        ]\n",
            "Epoch 593\n",
            "[0.00446862 1.        ]\n",
            "Epoch 594\n",
            "[0.00394242 1.        ]\n",
            "Epoch 595\n",
            "[0.0043181 1.       ]\n",
            "Epoch 596\n",
            "[0.002181 1.      ]\n",
            "Epoch 597\n",
            "[0.00212733 1.        ]\n",
            "Epoch 598\n",
            "[0.0015103 1.       ]\n",
            "Epoch 599\n",
            "[0.00316571 1.        ]\n",
            "Epoch 600\n",
            "[0.00120727 1.        ]\n",
            "Saving generator model\n",
            "Saved!\n",
            "(28, 28)\n"
          ]
        },
        {
          "output_type": "display_data",
          "data": {
            "text/plain": [
              "<Figure size 432x288 with 2 Axes>"
            ],
            "image/png": "[encoded data removed]"
          },
          "metadata": {
            "needs_background": "light"
          }
        },
        {
          "output_type": "stream",
          "name": "stdout",
          "text": [
            "Epoch 601\n",
            "[0.00132354 1.        ]\n",
            "Epoch 602\n",
            "[9.82485111e-04 1.00000000e+00]\n",
            "Epoch 603\n",
            "[0.00117132 1.        ]\n",
            "Epoch 604\n",
            "[0.00155644 1.        ]\n",
            "Epoch 605\n",
            "[0.00149995 1.        ]\n",
            "Epoch 606\n",
            "[0.00586877 1.        ]\n",
            "Epoch 607\n",
            "[0.00320293 1.        ]\n",
            "Epoch 608\n",
            "[0.00188197 1.        ]\n",
            "Epoch 609\n",
            "[0.02814332 0.984375  ]\n",
            "Epoch 610\n",
            "[0.00396606 1.        ]\n",
            "Saving generator model\n",
            "Saved!\n",
            "(28, 28)\n"
          ]
        },
        {
          "output_type": "display_data",
          "data": {
            "text/plain": [
              "<Figure size 432x288 with 2 Axes>"
            ],
            "image/png": "[encoded data removed]"
          },
          "metadata": {
            "needs_background": "light"
          }
        },
        {
          "output_type": "stream",
          "name": "stdout",
          "text": [
            "Epoch 611\n",
            "[0.00476475 1.        ]\n",
            "Epoch 612\n",
            "[0.00388175 1.        ]\n",
            "Epoch 613\n",
            "[0.0079941 1.       ]\n",
            "Epoch 614\n",
            "[0.0074347 1.       ]\n",
            "Epoch 615\n",
            "[0.00441961 1.        ]\n",
            "Epoch 616\n",
            "[0.00284377 1.        ]\n",
            "Epoch 617\n",
            "[0.00234283 1.        ]\n",
            "Epoch 618\n",
            "[0.00269371 1.        ]\n",
            "Epoch 619\n",
            "[0.0018861 1.       ]\n",
            "Epoch 620\n",
            "[0.00154776 1.        ]\n",
            "Saving generator model\n",
            "Saved!\n",
            "(28, 28)\n"
          ]
        },
        {
          "output_type": "display_data",
          "data": {
            "text/plain": [
              "<Figure size 432x288 with 2 Axes>"
            ],
            "image/png": "[encoded data removed]"
          },
          "metadata": {
            "needs_background": "light"
          }
        },
        {
          "output_type": "stream",
          "name": "stdout",
          "text": [
            "Epoch 621\n",
            "[0.00299623 1.        ]\n",
            "Epoch 622\n",
            "[9.6715695e-04 1.0000000e+00]\n",
            "Epoch 623\n",
            "[0.00416602 1.        ]\n",
            "Epoch 624\n",
            "[0.00792126 1.        ]\n",
            "Epoch 625\n",
            "[0.00121781 1.        ]\n",
            "Epoch 626\n",
            "[0.00150684 1.        ]\n",
            "Epoch 627\n",
            "[0.00307992 1.        ]\n",
            "Epoch 628\n",
            "[0.00362573 1.        ]\n",
            "Epoch 629\n",
            "[0.00187713 1.        ]\n",
            "Epoch 630\n",
            "[0.00180352 1.        ]\n",
            "Saving generator model\n",
            "Saved!\n",
            "(28, 28)\n"
          ]
        },
        {
          "output_type": "display_data",
          "data": {
            "text/plain": [
              "<Figure size 432x288 with 2 Axes>"
            ],
            "image/png": "[encoded data removed]"
          },
          "metadata": {
            "needs_background": "light"
          }
        },
        {
          "output_type": "stream",
          "name": "stdout",
          "text": [
            "Epoch 631\n",
            "[0.00241041 1.        ]\n",
            "Epoch 632\n",
            "[0.00181087 1.        ]\n",
            "Epoch 633\n",
            "[0.00209893 1.        ]\n",
            "Epoch 634\n",
            "[0.00350804 1.        ]\n",
            "Epoch 635\n",
            "[0.00247427 1.        ]\n",
            "Epoch 636\n",
            "[0.00200555 1.        ]\n",
            "Epoch 637\n",
            "[0.00159339 1.        ]\n",
            "Epoch 638\n",
            "[0.0033814 1.       ]\n",
            "Epoch 639\n",
            "[0.00159496 1.        ]\n",
            "Epoch 640\n",
            "[0.00197392 1.        ]\n",
            "Saving generator model\n",
            "Saved!\n",
            "(28, 28)\n"
          ]
        },
        {
          "output_type": "display_data",
          "data": {
            "text/plain": [
              "<Figure size 432x288 with 2 Axes>"
            ],
            "image/png": "[encoded data removed]"
          },
          "metadata": {
            "needs_background": "light"
          }
        },
        {
          "output_type": "stream",
          "name": "stdout",
          "text": [
            "Epoch 641\n",
            "[0.00130336 1.        ]\n",
            "Epoch 642\n",
            "[0.00501201 1.        ]\n",
            "Epoch 643\n",
            "[0.00161629 1.        ]\n",
            "Epoch 644\n",
            "[0.00213069 1.        ]\n",
            "Epoch 645\n",
            "[0.00315191 1.        ]\n",
            "Epoch 646\n",
            "[0.00203691 1.        ]\n",
            "Epoch 647\n",
            "[0.0016413 1.       ]\n",
            "Epoch 648\n",
            "[0.0031156 1.       ]\n",
            "Epoch 649\n",
            "[0.00240186 1.        ]\n",
            "Epoch 650\n",
            "[0.01075607 1.        ]\n",
            "Saving generator model\n",
            "Saved!\n",
            "(28, 28)\n"
          ]
        },
        {
          "output_type": "display_data",
          "data": {
            "text/plain": [
              "<Figure size 432x288 with 2 Axes>"
            ],
            "image/png": "[encoded data removed]"
          },
          "metadata": {
            "needs_background": "light"
          }
        },
        {
          "output_type": "stream",
          "name": "stdout",
          "text": [
            "Epoch 651\n",
            "[0.00219881 1.        ]\n",
            "Epoch 652\n",
            "[0.00203745 1.        ]\n",
            "Epoch 653\n",
            "[0.00210591 1.        ]\n",
            "Epoch 654\n",
            "[0.00211492 1.        ]\n",
            "Epoch 655\n",
            "[0.00282644 1.        ]\n",
            "Epoch 656\n",
            "[0.00226864 1.        ]\n",
            "Epoch 657\n",
            "[0.00190419 1.        ]\n",
            "Epoch 658\n",
            "[0.0023342 1.       ]\n",
            "Epoch 659\n",
            "[0.00237722 1.        ]\n",
            "Epoch 660\n",
            "[0.00130789 1.        ]\n",
            "Saving generator model\n",
            "Saved!\n",
            "(28, 28)\n"
          ]
        },
        {
          "output_type": "display_data",
          "data": {
            "text/plain": [
              "<Figure size 432x288 with 2 Axes>"
            ],
            "image/png": "[encoded data removed]"
          },
          "metadata": {
            "needs_background": "light"
          }
        },
        {
          "output_type": "stream",
          "name": "stdout",
          "text": [
            "Epoch 661\n",
            "[0.00228346 1.        ]\n",
            "Epoch 662\n",
            "[0.00137752 1.        ]\n",
            "Epoch 663\n",
            "[0.00759823 1.        ]\n",
            "Epoch 664\n",
            "[0.0028314 1.       ]\n",
            "Epoch 665\n",
            "[0.0019335 1.       ]\n",
            "Epoch 666\n",
            "[0.00145687 1.        ]\n",
            "Epoch 667\n",
            "[0.00161144 1.        ]\n",
            "Epoch 668\n",
            "[0.00908301 1.        ]\n",
            "Epoch 669\n",
            "[0.0021463 1.       ]\n",
            "Epoch 670\n",
            "[0.00248773 1.        ]\n",
            "Saving generator model\n",
            "Saved!\n",
            "(28, 28)\n"
          ]
        },
        {
          "output_type": "display_data",
          "data": {
            "text/plain": [
              "<Figure size 432x288 with 2 Axes>"
            ],
            "image/png": "[encoded data removed]"
          },
          "metadata": {
            "needs_background": "light"
          }
        },
        {
          "output_type": "stream",
          "name": "stdout",
          "text": [
            "Epoch 671\n",
            "[0.00226163 1.        ]\n",
            "Epoch 672\n",
            "[0.00188908 1.        ]\n",
            "Epoch 673\n",
            "[0.00180857 1.        ]\n",
            "Epoch 674\n",
            "[0.00282144 1.        ]\n",
            "Epoch 675\n",
            "[0.00148073 1.        ]\n",
            "Epoch 676\n",
            "[0.00161563 1.        ]\n",
            "Epoch 677\n",
            "[0.00318697 1.        ]\n",
            "Epoch 678\n",
            "[0.00131715 1.        ]\n",
            "Epoch 679\n",
            "[0.00115653 1.        ]\n",
            "Epoch 680\n",
            "[0.00462931 1.        ]\n",
            "Saving generator model\n",
            "Saved!\n",
            "(28, 28)\n"
          ]
        },
        {
          "output_type": "display_data",
          "data": {
            "text/plain": [
              "<Figure size 432x288 with 2 Axes>"
            ],
            "image/png": "[encoded data removed]"
          },
          "metadata": {
            "needs_background": "light"
          }
        },
        {
          "output_type": "stream",
          "name": "stdout",
          "text": [
            "Epoch 681\n",
            "[9.58809633e-04 1.00000000e+00]\n",
            "Epoch 682\n",
            "[0.0011542 1.       ]\n",
            "Epoch 683\n",
            "[0.0011993 1.       ]\n",
            "Epoch 684\n",
            "[9.39770736e-04 1.00000000e+00]\n",
            "Epoch 685\n",
            "[8.62217177e-04 1.00000000e+00]\n",
            "Epoch 686\n",
            "[0.00160868 1.        ]\n",
            "Epoch 687\n",
            "[9.9598465e-04 1.0000000e+00]\n",
            "Epoch 688\n",
            "[8.9533451e-04 1.0000000e+00]\n",
            "Epoch 689\n",
            "[8.18815388e-04 1.00000000e+00]\n",
            "Epoch 690\n",
            "[9.36056997e-04 1.00000000e+00]\n",
            "Saving generator model\n",
            "Saved!\n",
            "(28, 28)\n"
          ]
        },
        {
          "output_type": "display_data",
          "data": {
            "text/plain": [
              "<Figure size 432x288 with 2 Axes>"
            ],
            "image/png": "[encoded data removed]"
          },
          "metadata": {
            "needs_background": "light"
          }
        },
        {
          "output_type": "stream",
          "name": "stdout",
          "text": [
            "Epoch 691\n",
            "[0.00378816 1.        ]\n",
            "Epoch 692\n",
            "[8.82825669e-04 1.00000000e+00]\n",
            "Epoch 693\n",
            "[0.00180144 1.        ]\n",
            "Epoch 694\n",
            "[0.00105881 1.        ]\n",
            "Epoch 695\n",
            "[0.00336086 1.        ]\n",
            "Epoch 696\n",
            "[0.00102812 1.        ]\n",
            "Epoch 697\n",
            "[0.00146008 1.        ]\n",
            "Epoch 698\n",
            "[0.00116782 1.        ]\n",
            "Epoch 699\n",
            "[0.00137581 1.        ]\n",
            "Epoch 700\n",
            "[0.00103919 1.        ]\n",
            "Saving generator model\n",
            "Saved!\n",
            "(28, 28)\n"
          ]
        },
        {
          "output_type": "display_data",
          "data": {
            "text/plain": [
              "<Figure size 432x288 with 2 Axes>"
            ],
            "image/png": "[encoded data removed]"
          },
          "metadata": {
            "needs_background": "light"
          }
        },
        {
          "output_type": "stream",
          "name": "stdout",
          "text": [
            "Epoch 701\n",
            "[0.00181964 1.        ]\n",
            "Epoch 702\n",
            "[0.00226968 1.        ]\n",
            "Epoch 703\n",
            "[0.00148846 1.        ]\n",
            "Epoch 704\n",
            "[0.00111808 1.        ]\n",
            "Epoch 705\n",
            "[0.00549422 1.        ]\n",
            "Epoch 706\n",
            "[0.00154777 1.        ]\n",
            "Epoch 707\n",
            "[0.0011663 1.       ]\n",
            "Epoch 708\n",
            "[0.00109678 1.        ]\n",
            "Epoch 709\n",
            "[0.00121119 1.        ]\n",
            "Epoch 710\n",
            "[0.00110482 1.        ]\n",
            "Saving generator model\n",
            "Saved!\n",
            "(28, 28)\n"
          ]
        },
        {
          "output_type": "display_data",
          "data": {
            "text/plain": [
              "<Figure size 432x288 with 2 Axes>"
            ],
            "image/png": "[encoded data removed]"
          },
          "metadata": {
            "needs_background": "light"
          }
        },
        {
          "output_type": "stream",
          "name": "stdout",
          "text": [
            "Epoch 711\n",
            "[0.00165794 1.        ]\n",
            "Epoch 712\n",
            "[0.00142907 1.        ]\n",
            "Epoch 713\n",
            "[9.79888631e-04 1.00000000e+00]\n",
            "Epoch 714\n",
            "[0.02781083 0.984375  ]\n",
            "Epoch 715\n",
            "[0.00157789 1.        ]\n",
            "Epoch 716\n",
            "[0.00201463 1.        ]\n",
            "Epoch 717\n",
            "[0.00226888 1.        ]\n",
            "Epoch 718\n",
            "[0.00405548 1.        ]\n",
            "Epoch 719\n",
            "[0.00248131 1.        ]\n",
            "Epoch 720\n",
            "[0.00379542 1.        ]\n",
            "Saving generator model\n",
            "Saved!\n",
            "(28, 28)\n"
          ]
        },
        {
          "output_type": "display_data",
          "data": {
            "text/plain": [
              "<Figure size 432x288 with 2 Axes>"
            ],
            "image/png": "[encoded data removed]"
          },
          "metadata": {
            "needs_background": "light"
          }
        },
        {
          "output_type": "stream",
          "name": "stdout",
          "text": [
            "Epoch 721\n",
            "[0.00209444 1.        ]\n",
            "Epoch 722\n",
            "[0.00232969 1.        ]\n",
            "Epoch 723\n",
            "[0.00151273 1.        ]\n",
            "Epoch 724\n",
            "[0.02184085 0.984375  ]\n",
            "Epoch 725\n",
            "[0.00189445 1.        ]\n",
            "Epoch 726\n",
            "[0.00338823 1.        ]\n",
            "Epoch 727\n",
            "[0.00214325 1.        ]\n",
            "Epoch 728\n",
            "[0.0019767 1.       ]\n",
            "Epoch 729\n",
            "[0.0019349 1.       ]\n",
            "Epoch 730\n",
            "[0.00155206 1.        ]\n",
            "Saving generator model\n",
            "Saved!\n",
            "(28, 28)\n"
          ]
        },
        {
          "output_type": "display_data",
          "data": {
            "text/plain": [
              "<Figure size 432x288 with 2 Axes>"
            ],
            "image/png": "[encoded data removed]"
          },
          "metadata": {
            "needs_background": "light"
          }
        },
        {
          "output_type": "stream",
          "name": "stdout",
          "text": [
            "Epoch 731\n",
            "[0.00153401 1.        ]\n",
            "Epoch 732\n",
            "[0.00122285 1.        ]\n",
            "Epoch 733\n",
            "[9.1086986e-04 1.0000000e+00]\n",
            "Epoch 734\n",
            "[7.51081226e-04 1.00000000e+00]\n",
            "Epoch 735\n",
            "[5.82766809e-04 1.00000000e+00]\n",
            "Epoch 736\n",
            "[6.37823265e-04 1.00000000e+00]\n",
            "Epoch 737\n",
            "[0.0010977 1.       ]\n",
            "Epoch 738\n",
            "[3.80712602e-04 1.00000000e+00]\n",
            "Epoch 739\n",
            "[0.05485965 0.984375  ]\n",
            "Epoch 740\n",
            "[9.39896502e-04 1.00000000e+00]\n",
            "Saving generator model\n",
            "Saved!\n",
            "(28, 28)\n"
          ]
        },
        {
          "output_type": "display_data",
          "data": {
            "text/plain": [
              "<Figure size 432x288 with 2 Axes>"
            ],
            "image/png": "[encoded data removed]"
          },
          "metadata": {
            "needs_background": "light"
          }
        },
        {
          "output_type": "stream",
          "name": "stdout",
          "text": [
            "Epoch 741\n",
            "[0.00141929 1.        ]\n",
            "Epoch 742\n",
            "[0.00192514 1.        ]\n",
            "Epoch 743\n",
            "[0.00213285 1.        ]\n",
            "Epoch 744\n",
            "[0.00209519 1.        ]\n",
            "Epoch 745\n",
            "[0.00226226 1.        ]\n",
            "Epoch 746\n",
            "[0.00193433 1.        ]\n",
            "Epoch 747\n",
            "[0.00163445 1.        ]\n",
            "Epoch 748\n",
            "[0.00134957 1.        ]\n",
            "Epoch 749\n",
            "[0.00107626 1.        ]\n",
            "Epoch 750\n",
            "[8.98543407e-04 1.00000000e+00]\n",
            "Saving generator model\n",
            "Saved!\n",
            "(28, 28)\n"
          ]
        },
        {
          "output_type": "display_data",
          "data": {
            "text/plain": [
              "<Figure size 432x288 with 2 Axes>"
            ],
            "image/png": "[encoded data removed]"
          },
          "metadata": {
            "needs_background": "light"
          }
        },
        {
          "output_type": "stream",
          "name": "stdout",
          "text": [
            "Epoch 751\n",
            "[6.75943595e-04 1.00000000e+00]\n",
            "Epoch 752\n",
            "[5.95378916e-04 1.00000000e+00]\n",
            "Epoch 753\n",
            "[0.001397 1.      ]\n",
            "Epoch 754\n",
            "[4.76801953e-04 1.00000000e+00]\n",
            "Epoch 755\n",
            "[3.80341539e-04 1.00000000e+00]\n",
            "Epoch 756\n",
            "[3.44711245e-04 1.00000000e+00]\n",
            "Epoch 757\n",
            "[4.59505813e-04 1.00000000e+00]\n",
            "Epoch 758\n",
            "[3.20019804e-04 1.00000000e+00]\n",
            "Epoch 759\n",
            "[2.64294743e-04 1.00000000e+00]\n",
            "Epoch 760\n",
            "[9.46073167e-04 1.00000000e+00]\n",
            "Saving generator model\n",
            "Saved!\n",
            "(28, 28)\n"
          ]
        },
        {
          "output_type": "display_data",
          "data": {
            "text/plain": [
              "<Figure size 432x288 with 2 Axes>"
            ],
            "image/png": "[encoded data removed]"
          },
          "metadata": {
            "needs_background": "light"
          }
        },
        {
          "output_type": "stream",
          "name": "stdout",
          "text": [
            "Epoch 761\n",
            "[4.05691084e-04 1.00000000e+00]\n",
            "Epoch 762\n",
            "[2.30340057e-04 1.00000000e+00]\n",
            "Epoch 763\n",
            "[2.15381904e-04 1.00000000e+00]\n",
            "Epoch 764\n",
            "[3.75523698e-04 1.00000000e+00]\n",
            "Epoch 765\n",
            "[8.09072197e-04 1.00000000e+00]\n",
            "Epoch 766\n",
            "[2.20957062e-04 1.00000000e+00]\n",
            "Epoch 767\n",
            "[2.15701937e-04 1.00000000e+00]\n",
            "Epoch 768\n",
            "[2.14828029e-04 1.00000000e+00]\n",
            "Epoch 769\n",
            "[2.13202318e-04 1.00000000e+00]\n",
            "Epoch 770\n",
            "[2.54856535e-04 1.00000000e+00]\n",
            "Saving generator model\n",
            "Saved!\n",
            "(28, 28)\n"
          ]
        },
        {
          "output_type": "display_data",
          "data": {
            "text/plain": [
              "<Figure size 432x288 with 2 Axes>"
            ],
            "image/png": "[encoded data removed]"
          },
          "metadata": {
            "needs_background": "light"
          }
        },
        {
          "output_type": "stream",
          "name": "stdout",
          "text": [
            "Epoch 771\n",
            "[2.03634513e-04 1.00000000e+00]\n",
            "Epoch 772\n",
            "[5.21636844e-04 1.00000000e+00]\n",
            "Epoch 773\n",
            "[1.9092221e-04 1.0000000e+00]\n",
            "Epoch 774\n",
            "[0.00130089 1.        ]\n",
            "Epoch 775\n",
            "[2.08049084e-04 1.00000000e+00]\n",
            "Epoch 776\n",
            "[2.43824299e-04 1.00000000e+00]\n",
            "Epoch 777\n",
            "[3.55375509e-04 1.00000000e+00]\n",
            "Epoch 778\n",
            "[2.29954758e-04 1.00000000e+00]\n",
            "Epoch 779\n",
            "[2.82576559e-04 1.00000000e+00]\n",
            "Epoch 780\n",
            "[2.57554781e-04 1.00000000e+00]\n",
            "Saving generator model\n",
            "Saved!\n",
            "(28, 28)\n"
          ]
        },
        {
          "output_type": "display_data",
          "data": {
            "text/plain": [
              "<Figure size 432x288 with 2 Axes>"
            ],
            "image/png": "[encoded data removed]"
          },
          "metadata": {
            "needs_background": "light"
          }
        },
        {
          "output_type": "stream",
          "name": "stdout",
          "text": [
            "Epoch 781\n",
            "[2.3429664e-04 1.0000000e+00]\n",
            "Epoch 782\n",
            "[4.94363543e-04 1.00000000e+00]\n",
            "Epoch 783\n",
            "[2.33866397e-04 1.00000000e+00]\n",
            "Epoch 784\n",
            "[2.41000276e-04 1.00000000e+00]\n",
            "Epoch 785\n",
            "[2.31971831e-04 1.00000000e+00]\n",
            "Epoch 786\n",
            "[0.00196073 1.        ]\n",
            "Epoch 787\n",
            "[3.02287208e-04 1.00000000e+00]\n",
            "Epoch 788\n",
            "[2.83711017e-04 1.00000000e+00]\n",
            "Epoch 789\n",
            "[0.00136472 1.        ]\n",
            "Epoch 790\n",
            "[3.07616132e-04 1.00000000e+00]\n",
            "Saving generator model\n",
            "Saved!\n",
            "(28, 28)\n"
          ]
        },
        {
          "output_type": "display_data",
          "data": {
            "text/plain": [
              "<Figure size 432x288 with 2 Axes>"
            ],
            "image/png": "[encoded data removed]"
          },
          "metadata": {
            "needs_background": "light"
          }
        },
        {
          "output_type": "stream",
          "name": "stdout",
          "text": [
            "Epoch 791\n",
            "[5.68852847e-04 1.00000000e+00]\n",
            "Epoch 792\n",
            "[0.0029058 1.       ]\n",
            "Epoch 793\n",
            "[4.19376601e-04 1.00000000e+00]\n",
            "Epoch 794\n",
            "[4.66635251e-04 1.00000000e+00]\n",
            "Epoch 795\n",
            "[4.9581082e-04 1.0000000e+00]\n",
            "Epoch 796\n",
            "[0.00408897 1.        ]\n",
            "Epoch 797\n",
            "[6.51101316e-04 1.00000000e+00]\n",
            "Epoch 798\n",
            "[7.25518827e-04 1.00000000e+00]\n",
            "Epoch 799\n",
            "[8.90069539e-04 1.00000000e+00]\n",
            "Epoch 800\n",
            "[7.64670631e-04 1.00000000e+00]\n",
            "Saving generator model\n",
            "Saved!\n",
            "(28, 28)\n"
          ]
        },
        {
          "output_type": "display_data",
          "data": {
            "text/plain": [
              "<Figure size 432x288 with 2 Axes>"
            ],
            "image/png": "[encoded data removed]"
          },
          "metadata": {
            "needs_background": "light"
          }
        },
        {
          "output_type": "stream",
          "name": "stdout",
          "text": [
            "Epoch 801\n",
            "[8.0562842e-04 1.0000000e+00]\n",
            "Epoch 802\n",
            "[7.42891794e-04 1.00000000e+00]\n",
            "Epoch 803\n",
            "[0.0012817 1.       ]\n",
            "Epoch 804\n",
            "[6.77379808e-04 1.00000000e+00]\n",
            "Epoch 805\n",
            "[6.26749707e-04 1.00000000e+00]\n",
            "Epoch 806\n",
            "[7.42295568e-04 1.00000000e+00]\n",
            "Epoch 807\n",
            "[5.42880574e-04 1.00000000e+00]\n",
            "Epoch 808\n",
            "[0.00107517 1.        ]\n",
            "Epoch 809\n",
            "[4.88462618e-04 1.00000000e+00]\n",
            "Epoch 810\n",
            "[4.52657584e-04 1.00000000e+00]\n",
            "Saving generator model\n",
            "Saved!\n",
            "(28, 28)\n"
          ]
        },
        {
          "output_type": "display_data",
          "data": {
            "text/plain": [
              "<Figure size 432x288 with 2 Axes>"
            ],
            "image/png": "[encoded data removed]"
          },
          "metadata": {
            "needs_background": "light"
          }
        },
        {
          "output_type": "stream",
          "name": "stdout",
          "text": [
            "Epoch 811\n",
            "[4.82548159e-04 1.00000000e+00]\n",
            "Epoch 812\n",
            "[0.00277644 1.        ]\n",
            "Epoch 813\n",
            "[8.00355687e-04 1.00000000e+00]\n",
            "Epoch 814\n",
            "[4.89909164e-04 1.00000000e+00]\n",
            "Epoch 815\n",
            "[6.14887198e-04 1.00000000e+00]\n",
            "Epoch 816\n",
            "[5.18563436e-04 1.00000000e+00]\n",
            "Epoch 817\n",
            "[0.00105001 1.        ]\n",
            "Epoch 818\n",
            "[5.36840329e-04 1.00000000e+00]\n",
            "Epoch 819\n",
            "[6.29974493e-04 1.00000000e+00]\n",
            "Epoch 820\n",
            "[5.20059001e-04 1.00000000e+00]\n",
            "Saving generator model\n",
            "Saved!\n",
            "(28, 28)\n"
          ]
        },
        {
          "output_type": "display_data",
          "data": {
            "text/plain": [
              "<Figure size 432x288 with 2 Axes>"
            ],
            "image/png": "[encoded data removed]"
          },
          "metadata": {
            "needs_background": "light"
          }
        },
        {
          "output_type": "stream",
          "name": "stdout",
          "text": [
            "Epoch 821\n",
            "[0.00158226 1.        ]\n",
            "Epoch 822\n",
            "[5.30564347e-04 1.00000000e+00]\n",
            "Epoch 823\n",
            "[5.35114441e-04 1.00000000e+00]\n",
            "Epoch 824\n",
            "[6.75747913e-04 1.00000000e+00]\n",
            "Epoch 825\n",
            "[5.21009044e-04 1.00000000e+00]\n",
            "Epoch 826\n",
            "[0.00214082 1.        ]\n",
            "Epoch 827\n",
            "[5.59572479e-04 1.00000000e+00]\n",
            "Epoch 828\n",
            "[5.69718418e-04 1.00000000e+00]\n",
            "Epoch 829\n",
            "[5.84283292e-04 1.00000000e+00]\n",
            "Epoch 830\n",
            "[5.79853302e-04 1.00000000e+00]\n",
            "Saving generator model\n",
            "Saved!\n",
            "(28, 28)\n"
          ]
        },
        {
          "output_type": "display_data",
          "data": {
            "text/plain": [
              "<Figure size 432x288 with 2 Axes>"
            ],
            "image/png": "[encoded data removed]"
          },
          "metadata": {
            "needs_background": "light"
          }
        },
        {
          "output_type": "stream",
          "name": "stdout",
          "text": [
            "Epoch 831\n",
            "[5.56813059e-04 1.00000000e+00]\n",
            "Epoch 832\n",
            "[6.15725236e-04 1.00000000e+00]\n",
            "Epoch 833\n",
            "[0.03645376 0.984375  ]\n",
            "Epoch 834\n",
            "[0.00187158 1.        ]\n",
            "Epoch 835\n",
            "[0.01029328 1.        ]\n",
            "Epoch 836\n",
            "[0.00668276 1.        ]\n",
            "Epoch 837\n",
            "[0.00703905 1.        ]\n",
            "Epoch 838\n",
            "[0.00523851 1.        ]\n",
            "Epoch 839\n",
            "[0.00315545 1.        ]\n",
            "Epoch 840\n",
            "[0.00167671 1.        ]\n",
            "Saving generator model\n",
            "Saved!\n",
            "(28, 28)\n"
          ]
        },
        {
          "output_type": "display_data",
          "data": {
            "text/plain": [
              "<Figure size 432x288 with 2 Axes>"
            ],
            "image/png": "[encoded data removed]"
          },
          "metadata": {
            "needs_background": "light"
          }
        },
        {
          "output_type": "stream",
          "name": "stdout",
          "text": [
            "Epoch 841\n",
            "[9.53539968e-04 1.00000000e+00]\n",
            "Epoch 842\n",
            "[5.76655438e-04 1.00000000e+00]\n",
            "Epoch 843\n",
            "[5.97918421e-04 1.00000000e+00]\n",
            "Epoch 844\n",
            "[0.00593734 1.        ]\n",
            "Epoch 845\n",
            "[3.53539609e-04 1.00000000e+00]\n",
            "Epoch 846\n",
            "[6.44987769e-04 1.00000000e+00]\n",
            "Epoch 847\n",
            "[4.26585701e-04 1.00000000e+00]\n",
            "Epoch 848\n",
            "[0.00165359 1.        ]\n",
            "Epoch 849\n",
            "[6.87645967e-04 1.00000000e+00]\n",
            "Epoch 850\n",
            "[6.33199239e-04 1.00000000e+00]\n",
            "Saving generator model\n",
            "Saved!\n",
            "(28, 28)\n"
          ]
        },
        {
          "output_type": "display_data",
          "data": {
            "text/plain": [
              "<Figure size 432x288 with 2 Axes>"
            ],
            "image/png": "[encoded data removed]"
          },
          "metadata": {
            "needs_background": "light"
          }
        },
        {
          "output_type": "stream",
          "name": "stdout",
          "text": [
            "Epoch 851\n",
            "[6.96524455e-04 1.00000000e+00]\n",
            "Epoch 852\n",
            "[7.70167515e-04 1.00000000e+00]\n",
            "Epoch 853\n",
            "[7.94517446e-04 1.00000000e+00]\n",
            "Epoch 854\n",
            "[8.26718893e-04 1.00000000e+00]\n",
            "Epoch 855\n",
            "[7.98145899e-04 1.00000000e+00]\n",
            "Epoch 856\n",
            "[7.91722794e-04 1.00000000e+00]\n",
            "Epoch 857\n",
            "[0.00114197 1.        ]\n",
            "Epoch 858\n",
            "[0.0030985 1.       ]\n",
            "Epoch 859\n",
            "[0.0033838 1.       ]\n",
            "Epoch 860\n",
            "[0.00595068 1.        ]\n",
            "Saving generator model\n",
            "Saved!\n",
            "(28, 28)\n"
          ]
        },
        {
          "output_type": "display_data",
          "data": {
            "text/plain": [
              "<Figure size 432x288 with 2 Axes>"
            ],
            "image/png": "[encoded data removed]"
          },
          "metadata": {
            "needs_background": "light"
          }
        },
        {
          "output_type": "stream",
          "name": "stdout",
          "text": [
            "Epoch 861\n",
            "[0.00262824 1.        ]\n",
            "Epoch 862\n",
            "[0.00776941 1.        ]\n",
            "Epoch 863\n",
            "[0.00431302 1.        ]\n",
            "Epoch 864\n",
            "[0.00367674 1.        ]\n",
            "Epoch 865\n",
            "[0.00240895 1.        ]\n",
            "Epoch 866\n",
            "[0.00140193 1.        ]\n",
            "Epoch 867\n",
            "[8.50910649e-04 1.00000000e+00]\n",
            "Epoch 868\n",
            "[0.0256875 0.984375 ]\n",
            "Epoch 869\n",
            "[0.00283323 1.        ]\n",
            "Epoch 870\n",
            "[0.01889978 0.984375  ]\n",
            "Saving generator model\n",
            "Saved!\n",
            "(28, 28)\n"
          ]
        },
        {
          "output_type": "display_data",
          "data": {
            "text/plain": [
              "<Figure size 432x288 with 2 Axes>"
            ],
            "image/png": "[encoded data removed]"
          },
          "metadata": {
            "needs_background": "light"
          }
        },
        {
          "output_type": "stream",
          "name": "stdout",
          "text": [
            "Epoch 871\n",
            "[0.01871985 1.        ]\n",
            "Epoch 872\n",
            "[0.01046868 1.        ]\n",
            "Epoch 873\n",
            "[0.00414569 1.        ]\n",
            "Epoch 874\n",
            "[0.00114491 1.        ]\n",
            "Epoch 875\n",
            "[0.00185459 1.        ]\n",
            "Epoch 876\n",
            "[0.00703978 1.        ]\n",
            "Epoch 877\n",
            "[0.01743259 0.984375  ]\n",
            "Epoch 878\n",
            "[0.00135848 1.        ]\n",
            "Epoch 879\n",
            "[0.00430741 1.        ]\n",
            "Epoch 880\n",
            "[0.00448703 1.        ]\n",
            "Saving generator model\n",
            "Saved!\n",
            "(28, 28)\n"
          ]
        },
        {
          "output_type": "display_data",
          "data": {
            "text/plain": [
              "<Figure size 432x288 with 2 Axes>"
            ],
            "image/png": "[encoded data removed]"
          },
          "metadata": {
            "needs_background": "light"
          }
        },
        {
          "output_type": "stream",
          "name": "stdout",
          "text": [
            "Epoch 881\n",
            "[0.00633896 1.        ]\n",
            "Epoch 882\n",
            "[0.00386348 1.        ]\n",
            "Epoch 883\n",
            "[0.00358581 1.        ]\n",
            "Epoch 884\n",
            "[0.00230726 1.        ]\n",
            "Epoch 885\n",
            "[9.1317838e-04 1.0000000e+00]\n",
            "Epoch 886\n",
            "[6.57527393e-04 1.00000000e+00]\n",
            "Epoch 887\n",
            "[0.09304845 0.984375  ]\n",
            "Epoch 888\n",
            "[0.00349039 1.        ]\n",
            "Epoch 889\n",
            "[0.00631671 1.        ]\n",
            "Epoch 890\n",
            "[0.00525621 1.        ]\n",
            "Saving generator model\n",
            "Saved!\n",
            "(28, 28)\n"
          ]
        },
        {
          "output_type": "display_data",
          "data": {
            "text/plain": [
              "<Figure size 432x288 with 2 Axes>"
            ],
            "image/png": "[encoded data removed]"
          },
          "metadata": {
            "needs_background": "light"
          }
        },
        {
          "output_type": "stream",
          "name": "stdout",
          "text": [
            "Epoch 891\n",
            "[0.00506724 1.        ]\n",
            "Epoch 892\n",
            "[0.00223925 1.        ]\n",
            "Epoch 893\n",
            "[0.00109997 1.        ]\n",
            "Epoch 894\n",
            "[6.84229177e-04 1.00000000e+00]\n",
            "Epoch 895\n",
            "[0.00904399 1.        ]\n",
            "Epoch 896\n",
            "[7.38218156e-04 1.00000000e+00]\n",
            "Epoch 897\n",
            "[0.00473432 1.        ]\n",
            "Epoch 898\n",
            "[0.00220172 1.        ]\n",
            "Epoch 899\n",
            "[0.00245615 1.        ]\n",
            "Epoch 900\n",
            "[0.00230363 1.        ]\n",
            "Saving generator model\n",
            "Saved!\n",
            "(28, 28)\n"
          ]
        },
        {
          "output_type": "display_data",
          "data": {
            "text/plain": [
              "<Figure size 432x288 with 2 Axes>"
            ],
            "image/png": "[encoded data removed]"
          },
          "metadata": {
            "needs_background": "light"
          }
        },
        {
          "output_type": "stream",
          "name": "stdout",
          "text": [
            "Epoch 901\n",
            "[0.00182443 1.        ]\n",
            "Epoch 902\n",
            "[0.00116005 1.        ]\n",
            "Epoch 903\n",
            "[7.30841168e-04 1.00000000e+00]\n",
            "Epoch 904\n",
            "[5.2397069e-04 1.0000000e+00]\n",
            "Epoch 905\n",
            "[0.03088027 0.984375  ]\n",
            "Epoch 906\n",
            "[0.00327913 1.        ]\n",
            "Epoch 907\n",
            "[0.00610343 1.        ]\n",
            "Epoch 908\n",
            "[0.00574124 1.        ]\n",
            "Epoch 909\n",
            "[0.00211699 1.        ]\n",
            "Epoch 910\n",
            "[0.00124836 1.        ]\n",
            "Saving generator model\n",
            "Saved!\n",
            "(28, 28)\n"
          ]
        },
        {
          "output_type": "display_data",
          "data": {
            "text/plain": [
              "<Figure size 432x288 with 2 Axes>"
            ],
            "image/png": "[encoded data removed]"
          },
          "metadata": {
            "needs_background": "light"
          }
        },
        {
          "output_type": "stream",
          "name": "stdout",
          "text": [
            "Epoch 911\n",
            "[0.03444549 0.984375  ]\n",
            "Epoch 912\n",
            "[0.00279412 1.        ]\n",
            "Epoch 913\n",
            "[0.0045879 1.       ]\n",
            "Epoch 914\n",
            "[0.00336344 1.        ]\n",
            "Epoch 915\n",
            "[0.00180092 1.        ]\n",
            "Epoch 916\n",
            "[8.94062723e-04 1.00000000e+00]\n",
            "Epoch 917\n",
            "[0.02727343 0.984375  ]\n",
            "Epoch 918\n",
            "[0.00226798 1.        ]\n",
            "Epoch 919\n",
            "[0.00319642 1.        ]\n",
            "Epoch 920\n",
            "[0.00284954 1.        ]\n",
            "Saving generator model\n",
            "Saved!\n",
            "(28, 28)\n"
          ]
        },
        {
          "output_type": "display_data",
          "data": {
            "text/plain": [
              "<Figure size 432x288 with 2 Axes>"
            ],
            "image/png": "[encoded data removed]"
          },
          "metadata": {
            "needs_background": "light"
          }
        },
        {
          "output_type": "stream",
          "name": "stdout",
          "text": [
            "Epoch 921\n",
            "[0.00162097 1.        ]\n",
            "Epoch 922\n",
            "[9.16071768e-04 1.00000000e+00]\n",
            "Epoch 923\n",
            "[5.30303581e-04 1.00000000e+00]\n",
            "Epoch 924\n",
            "[3.14614989e-04 1.00000000e+00]\n",
            "Epoch 925\n",
            "[2.33642623e-04 1.00000000e+00]\n",
            "Epoch 926\n",
            "[0.00342389 1.        ]\n",
            "Epoch 927\n",
            "[2.77996272e-04 1.00000000e+00]\n",
            "Epoch 928\n",
            "[7.86246674e-04 1.00000000e+00]\n",
            "Epoch 929\n",
            "[5.95972961e-04 1.00000000e+00]\n",
            "Epoch 930\n",
            "[0.02216085 0.984375  ]\n",
            "Saving generator model\n",
            "Saved!\n",
            "(28, 28)\n"
          ]
        },
        {
          "output_type": "display_data",
          "data": {
            "text/plain": [
              "<Figure size 432x288 with 2 Axes>"
            ],
            "image/png": "[encoded data removed]"
          },
          "metadata": {
            "needs_background": "light"
          }
        },
        {
          "output_type": "stream",
          "name": "stdout",
          "text": [
            "Epoch 931\n",
            "[0.08121222 0.984375  ]\n",
            "Epoch 932\n",
            "[0.01488527 1.        ]\n",
            "Epoch 933\n",
            "[0.00116352 1.        ]\n",
            "Epoch 934\n",
            "[1.94930617e-04 1.00000000e+00]\n",
            "Epoch 935\n",
            "[2.24342911e-05 1.00000000e+00]\n",
            "Epoch 936\n",
            "[7.72929207e-06 1.00000000e+00]\n",
            "Epoch 937\n",
            "[5.10316727e-06 1.00000000e+00]\n",
            "Epoch 938\n",
            "[7.99211584e-04 1.00000000e+00]\n",
            "Epoch 939\n",
            "[2.8120093e-04 1.0000000e+00]\n",
            "Epoch 940\n",
            "[2.45505829e-04 1.00000000e+00]\n",
            "Saving generator model\n",
            "Saved!\n",
            "(28, 28)\n"
          ]
        },
        {
          "output_type": "display_data",
          "data": {
            "text/plain": [
              "<Figure size 432x288 with 2 Axes>"
            ],
            "image/png": "[encoded data removed]"
          },
          "metadata": {
            "needs_background": "light"
          }
        },
        {
          "output_type": "stream",
          "name": "stdout",
          "text": [
            "Epoch 941\n",
            "[2.46640741e-06 1.00000000e+00]\n",
            "Epoch 942\n",
            "[0.05217453 0.984375  ]\n",
            "Epoch 943\n",
            "[5.94393678e-05 1.00000000e+00]\n",
            "Epoch 944\n",
            "[0.00272464 1.        ]\n",
            "Epoch 945\n",
            "[0.00190148 1.        ]\n",
            "Epoch 946\n",
            "[0.00770132 1.        ]\n",
            "Epoch 947\n",
            "[0.00625579 1.        ]\n",
            "Epoch 948\n",
            "[0.00328047 1.        ]\n",
            "Epoch 949\n",
            "[8.05516553e-04 1.00000000e+00]\n",
            "Epoch 950\n",
            "[3.85474195e-04 1.00000000e+00]\n",
            "Saving generator model\n",
            "Saved!\n",
            "(28, 28)\n"
          ]
        },
        {
          "output_type": "display_data",
          "data": {
            "text/plain": [
              "<Figure size 432x288 with 2 Axes>"
            ],
            "image/png": "[encoded data removed]"
          },
          "metadata": {
            "needs_background": "light"
          }
        },
        {
          "output_type": "stream",
          "name": "stdout",
          "text": [
            "Epoch 951\n",
            "[1.82260468e-04 1.00000000e+00]\n",
            "Epoch 952\n",
            "[0.00976903 1.        ]\n",
            "Epoch 953\n",
            "[6.7129236e-04 1.0000000e+00]\n",
            "Epoch 954\n",
            "[0.0070826 1.       ]\n",
            "Epoch 955\n",
            "[0.22302309 0.921875  ]\n",
            "Epoch 956\n",
            "[4.11584588e-05 1.00000000e+00]\n",
            "Epoch 957\n",
            "[2.57282125e-05 1.00000000e+00]\n",
            "Epoch 958\n",
            "[0.37667257 0.9375    ]\n",
            "Epoch 959\n",
            "[0.14058986 0.96875   ]\n",
            "Epoch 960\n",
            "[1.90545403 0.71875   ]\n",
            "Saving generator model\n",
            "Saved!\n",
            "(28, 28)\n"
          ]
        },
        {
          "output_type": "display_data",
          "data": {
            "text/plain": [
              "<Figure size 432x288 with 2 Axes>"
            ],
            "image/png": "[encoded data removed]"
          },
          "metadata": {
            "needs_background": "light"
          }
        },
        {
          "output_type": "stream",
          "name": "stdout",
          "text": [
            "Epoch 961\n",
            "[0.0055084 1.       ]\n",
            "Epoch 962\n",
            "[1.44930673 0.78125   ]\n",
            "Epoch 963\n",
            "[0.73018227 0.90625   ]\n",
            "Epoch 964\n",
            "[0.19853179 0.90625   ]\n",
            "Epoch 965\n",
            "[0.46299822 0.921875  ]\n",
            "Epoch 966\n",
            "[1.48720186e-04 1.00000000e+00]\n",
            "Epoch 967\n",
            "[0.28088945 0.953125  ]\n",
            "Epoch 968\n",
            "[0.59094393 0.890625  ]\n",
            "Epoch 969\n",
            "[0.57214606 0.859375  ]\n",
            "Epoch 970\n",
            "[0.13991498 0.9375    ]\n",
            "Saving generator model\n",
            "Saved!\n",
            "(28, 28)\n"
          ]
        },
        {
          "output_type": "display_data",
          "data": {
            "text/plain": [
              "<Figure size 432x288 with 2 Axes>"
            ],
            "image/png": "[encoded data removed]"
          },
          "metadata": {
            "needs_background": "light"
          }
        },
        {
          "output_type": "stream",
          "name": "stdout",
          "text": [
            "Epoch 971\n",
            "[5.75881078 0.515625  ]\n",
            "Epoch 972\n",
            "[0.35007721 0.921875  ]\n",
            "Epoch 973\n",
            "[3.77203202 0.625     ]\n",
            "Epoch 974\n",
            "[4.98246098 0.53125   ]\n",
            "Epoch 975\n",
            "[1.46640193 0.796875  ]\n",
            "Epoch 976\n",
            "[0.01422404 1.        ]\n",
            "Epoch 977\n",
            "[1.69305225e-08 1.00000000e+00]\n",
            "Epoch 978\n",
            "[0.82044566 0.5625    ]\n",
            "Epoch 979\n",
            "[7.06892989e-09 1.00000000e+00]\n",
            "Epoch 980\n",
            "[0.00268594 1.        ]\n",
            "Saving generator model\n",
            "Saved!\n",
            "(28, 28)\n"
          ]
        },
        {
          "output_type": "display_data",
          "data": {
            "text/plain": [
              "<Figure size 432x288 with 2 Axes>"
            ],
            "image/png": "[encoded data removed]"
          },
          "metadata": {
            "needs_background": "light"
          }
        },
        {
          "output_type": "stream",
          "name": "stdout",
          "text": [
            "Epoch 981\n",
            "[0.71745014 0.90625   ]\n",
            "Epoch 982\n",
            "[1.1924423 0.828125 ]\n",
            "Epoch 983\n",
            "[1.04319263 0.890625  ]\n",
            "Epoch 984\n",
            "[0.0460409 0.984375 ]\n",
            "Epoch 985\n",
            "[2.21853907e-06 1.00000000e+00]\n",
            "Epoch 986\n",
            "[9.71872651e-05 1.00000000e+00]\n",
            "Epoch 987\n",
            "[3.36952981e-08 1.00000000e+00]\n",
            "Epoch 988\n",
            "[9.5009915e-06 1.0000000e+00]\n",
            "Epoch 989\n",
            "[0.03548891 0.96875   ]\n",
            "Epoch 990\n",
            "[0.29372096 0.90625   ]\n",
            "Saving generator model\n",
            "Saved!\n",
            "(28, 28)\n"
          ]
        },
        {
          "output_type": "display_data",
          "data": {
            "text/plain": [
              "<Figure size 432x288 with 2 Axes>"
            ],
            "image/png": "[encoded data removed]"
          },
          "metadata": {
            "needs_background": "light"
          }
        },
        {
          "output_type": "stream",
          "name": "stdout",
          "text": [
            "Epoch 991\n",
            "[0.05837165 0.96875   ]\n",
            "Epoch 992\n",
            "[0.00628931 1.        ]\n",
            "Epoch 993\n",
            "[0.00876445 1.        ]\n",
            "Epoch 994\n",
            "[0.34566983 0.953125  ]\n",
            "Epoch 995\n",
            "[0.26161661 0.953125  ]\n",
            "Epoch 996\n",
            "[0.79793513 0.640625  ]\n",
            "Epoch 997\n",
            "[0.17013913 0.9375    ]\n",
            "Epoch 998\n",
            "[1.78704948 0.8125    ]\n",
            "Epoch 999\n",
            "[0.79468797 0.90625   ]\n"
          ]
        }
      ]
    },
    {
      "cell_type": "code",
      "source": [
        "from types import GeneratorType\n",
        "##Test the generator\n",
        "\n",
        "\n",
        "Generator= keras.models.load_model(\"./generators/gen_epoch_10.h5\")"
      ],
      "metadata": {
        "id": "teKeJVcR41Ft"
      },
      "execution_count": 124,
      "outputs": []
    },
    {
      "cell_type": "code",
      "source": [
        "def plot_images(Generator=generator):\n",
        "  idx = np.random.randint(0, x_train.shape[0], half_batch)\n",
        "  imgs = x_train[idx][0]\n",
        "  plt.subplot(2,2,1)\n",
        "  plt.imshow(imgs)\n",
        "\n",
        "  noise = np.random.normal(0, 1, (1, 100))\n",
        "  gen_imgs = Generator.predict(noise)\n",
        "  print(gen_imgs[0][:,:,-1].shape)\n",
        "  plt.subplot(2,2,2)\n",
        "  plt.imshow(gen_imgs[0][:,:,-1])\n",
        "  plt.show()\n",
        "\n",
        "plot_images(Generator)"
      ],
      "metadata": {
        "colab": {
          "base_uri": "https://localhost:8080/",
          "height": 166
        },
        "id": "gaKrNE_t5SKm",
        "outputId": "8eb2a9c9-ae6d-4170-9c30-e38275612181"
      },
      "execution_count": 128,
      "outputs": [
        {
          "output_type": "stream",
          "name": "stdout",
          "text": [
            "(28, 28)\n"
          ]
        },
        {
          "output_type": "display_data",
          "data": {
            "text/plain": [
              "<Figure size 432x288 with 2 Axes>"
            ],
            "image/png": "[encoded data removed]"
          },
          "metadata": {
            "needs_background": "light"
          }
        }
      ]
    }
  ]
}